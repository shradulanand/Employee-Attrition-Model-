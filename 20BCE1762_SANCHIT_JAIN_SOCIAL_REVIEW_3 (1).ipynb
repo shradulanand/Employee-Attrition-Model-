{
  "cells": [
    {
      "cell_type": "markdown",
      "metadata": {
        "id": "GpyYXH-vEO-f"
      },
      "source": [
        "IMPORTING IMPORTANT LIBRARIES"
      ]
    },
    {
      "cell_type": "code",
      "execution_count": null,
      "metadata": {
        "id": "n0QRsa-EEJ52"
      },
      "outputs": [],
      "source": [
        "import pandas as pd\n",
        "import numpy as np\n",
        "import matplotlib.pyplot as plt\n",
        "import seaborn as sb\n"
      ]
    },
    {
      "cell_type": "markdown",
      "metadata": {
        "id": "pSmEDV3yE1W2"
      },
      "source": [
        "LOADING THE DATASET"
      ]
    },
    {
      "cell_type": "code",
      "execution_count": null,
      "metadata": {
        "colab": {
          "base_uri": "https://localhost:8080/",
          "height": 713
        },
        "id": "dnJeELaQEUsL",
        "outputId": "36a37833-18dc-4904-8816-67101c7bfb5c"
      },
      "outputs": [
        {
          "output_type": "execute_result",
          "data": {
            "text/plain": [
              "      Employee Count  Employee ID              Department  \\\n",
              "0                  1            1                   Sales   \n",
              "1                  1            2  Research & Development   \n",
              "2                  1            4  Research & Development   \n",
              "3                  1            5  Research & Development   \n",
              "4                  1            7  Research & Development   \n",
              "...              ...          ...                     ...   \n",
              "1465               1         2061  Research & Development   \n",
              "1466               1         2062  Research & Development   \n",
              "1467               1         2064  Research & Development   \n",
              "1468               1         2065                   Sales   \n",
              "1469               1         2068  Research & Development   \n",
              "\n",
              "                       Job Role  Gender  Age Marital Status      Education  \\\n",
              "0               Sales Executive  Female   41         Single        College   \n",
              "1            Research Scientist    Male   49        Married  Below College   \n",
              "2         Laboratory Technician    Male   37         Single        College   \n",
              "3            Research Scientist  Female   33        Married         Master   \n",
              "4         Laboratory Technician    Male   27        Married  Below College   \n",
              "...                         ...     ...  ...            ...            ...   \n",
              "1465      Laboratory Technician    Male   36        Married        College   \n",
              "1466  Healthcare Representative    Male   39        Married  Below College   \n",
              "1467     Manufacturing Director    Male   27        Married       Bachelor   \n",
              "1468            Sales Executive    Male   49        Married       Bachelor   \n",
              "1469      Laboratory Technician    Male   34        Married       Bachelor   \n",
              "\n",
              "     Education Field    Business Travel  ...  Total Working Years  \\\n",
              "0      Life Sciences      Travel_Rarely  ...                    8   \n",
              "1      Life Sciences  Travel_Frequently  ...                   10   \n",
              "2              Other      Travel_Rarely  ...                    7   \n",
              "3      Life Sciences  Travel_Frequently  ...                    8   \n",
              "4            Medical      Travel_Rarely  ...                    6   \n",
              "...              ...                ...  ...                  ...   \n",
              "1465         Medical  Travel_Frequently  ...                   17   \n",
              "1466         Medical      Travel_Rarely  ...                    9   \n",
              "1467   Life Sciences      Travel_Rarely  ...                    6   \n",
              "1468         Medical  Travel_Frequently  ...                   17   \n",
              "1469         Medical      Travel_Rarely  ...                    6   \n",
              "\n",
              "     Years At Company  Years In Current Role Years Since Last Promotion  \\\n",
              "0                   6                      4                          0   \n",
              "1                  10                      7                          1   \n",
              "2                   0                      0                          0   \n",
              "3                   8                      7                          3   \n",
              "4                   2                      2                          2   \n",
              "...               ...                    ...                        ...   \n",
              "1465                5                      2                          0   \n",
              "1466                7                      7                          1   \n",
              "1467                6                      2                          0   \n",
              "1468                9                      6                          0   \n",
              "1469                4                      3                          1   \n",
              "\n",
              "      Years With Curr Manager  Environment Satisfaction  \\\n",
              "0                           5                    Medium   \n",
              "1                           7                      High   \n",
              "2                           0                       Low   \n",
              "3                           0                 Very High   \n",
              "4                           2                       Low   \n",
              "...                       ...                       ...   \n",
              "1465                        3                      High   \n",
              "1466                        7                 Very High   \n",
              "1467                        3                    Medium   \n",
              "1468                        8                 Very High   \n",
              "1469                        2                    Medium   \n",
              "\n",
              "      Training Times Last Year Work Life Balance  Relationship Satisfaction  \\\n",
              "0                            0               Bad                        Low   \n",
              "1                            3            Better                  Very High   \n",
              "2                            3               Bad                     Medium   \n",
              "3                            3            Better                       High   \n",
              "4                            3            Better                  Very High   \n",
              "...                        ...               ...                        ...   \n",
              "1465                         3            Better                       High   \n",
              "1466                         5            Better                        Low   \n",
              "1467                         0            Better                     Medium   \n",
              "1468                         3              Good                  Very High   \n",
              "1469                         3              Best                        Low   \n",
              "\n",
              "      Attrition (Yes/No)  \n",
              "0                    Yes  \n",
              "1                     No  \n",
              "2                    Yes  \n",
              "3                     No  \n",
              "4                     No  \n",
              "...                  ...  \n",
              "1465                  No  \n",
              "1466                  No  \n",
              "1467                  No  \n",
              "1468                  No  \n",
              "1469                  No  \n",
              "\n",
              "[1470 rows x 29 columns]"
            ],
            "text/html": [
              "\n",
              "  <div id=\"df-d6dfc537-36b3-467d-aa0a-fbca7f8e3a6c\">\n",
              "    <div class=\"colab-df-container\">\n",
              "      <div>\n",
              "<style scoped>\n",
              "    .dataframe tbody tr th:only-of-type {\n",
              "        vertical-align: middle;\n",
              "    }\n",
              "\n",
              "    .dataframe tbody tr th {\n",
              "        vertical-align: top;\n",
              "    }\n",
              "\n",
              "    .dataframe thead th {\n",
              "        text-align: right;\n",
              "    }\n",
              "</style>\n",
              "<table border=\"1\" class=\"dataframe\">\n",
              "  <thead>\n",
              "    <tr style=\"text-align: right;\">\n",
              "      <th></th>\n",
              "      <th>Employee Count</th>\n",
              "      <th>Employee ID</th>\n",
              "      <th>Department</th>\n",
              "      <th>Job Role</th>\n",
              "      <th>Gender</th>\n",
              "      <th>Age</th>\n",
              "      <th>Marital Status</th>\n",
              "      <th>Education</th>\n",
              "      <th>Education Field</th>\n",
              "      <th>Business Travel</th>\n",
              "      <th>...</th>\n",
              "      <th>Total Working Years</th>\n",
              "      <th>Years At Company</th>\n",
              "      <th>Years In Current Role</th>\n",
              "      <th>Years Since Last Promotion</th>\n",
              "      <th>Years With Curr Manager</th>\n",
              "      <th>Environment Satisfaction</th>\n",
              "      <th>Training Times Last Year</th>\n",
              "      <th>Work Life Balance</th>\n",
              "      <th>Relationship Satisfaction</th>\n",
              "      <th>Attrition (Yes/No)</th>\n",
              "    </tr>\n",
              "  </thead>\n",
              "  <tbody>\n",
              "    <tr>\n",
              "      <th>0</th>\n",
              "      <td>1</td>\n",
              "      <td>1</td>\n",
              "      <td>Sales</td>\n",
              "      <td>Sales Executive</td>\n",
              "      <td>Female</td>\n",
              "      <td>41</td>\n",
              "      <td>Single</td>\n",
              "      <td>College</td>\n",
              "      <td>Life Sciences</td>\n",
              "      <td>Travel_Rarely</td>\n",
              "      <td>...</td>\n",
              "      <td>8</td>\n",
              "      <td>6</td>\n",
              "      <td>4</td>\n",
              "      <td>0</td>\n",
              "      <td>5</td>\n",
              "      <td>Medium</td>\n",
              "      <td>0</td>\n",
              "      <td>Bad</td>\n",
              "      <td>Low</td>\n",
              "      <td>Yes</td>\n",
              "    </tr>\n",
              "    <tr>\n",
              "      <th>1</th>\n",
              "      <td>1</td>\n",
              "      <td>2</td>\n",
              "      <td>Research &amp; Development</td>\n",
              "      <td>Research Scientist</td>\n",
              "      <td>Male</td>\n",
              "      <td>49</td>\n",
              "      <td>Married</td>\n",
              "      <td>Below College</td>\n",
              "      <td>Life Sciences</td>\n",
              "      <td>Travel_Frequently</td>\n",
              "      <td>...</td>\n",
              "      <td>10</td>\n",
              "      <td>10</td>\n",
              "      <td>7</td>\n",
              "      <td>1</td>\n",
              "      <td>7</td>\n",
              "      <td>High</td>\n",
              "      <td>3</td>\n",
              "      <td>Better</td>\n",
              "      <td>Very High</td>\n",
              "      <td>No</td>\n",
              "    </tr>\n",
              "    <tr>\n",
              "      <th>2</th>\n",
              "      <td>1</td>\n",
              "      <td>4</td>\n",
              "      <td>Research &amp; Development</td>\n",
              "      <td>Laboratory Technician</td>\n",
              "      <td>Male</td>\n",
              "      <td>37</td>\n",
              "      <td>Single</td>\n",
              "      <td>College</td>\n",
              "      <td>Other</td>\n",
              "      <td>Travel_Rarely</td>\n",
              "      <td>...</td>\n",
              "      <td>7</td>\n",
              "      <td>0</td>\n",
              "      <td>0</td>\n",
              "      <td>0</td>\n",
              "      <td>0</td>\n",
              "      <td>Low</td>\n",
              "      <td>3</td>\n",
              "      <td>Bad</td>\n",
              "      <td>Medium</td>\n",
              "      <td>Yes</td>\n",
              "    </tr>\n",
              "    <tr>\n",
              "      <th>3</th>\n",
              "      <td>1</td>\n",
              "      <td>5</td>\n",
              "      <td>Research &amp; Development</td>\n",
              "      <td>Research Scientist</td>\n",
              "      <td>Female</td>\n",
              "      <td>33</td>\n",
              "      <td>Married</td>\n",
              "      <td>Master</td>\n",
              "      <td>Life Sciences</td>\n",
              "      <td>Travel_Frequently</td>\n",
              "      <td>...</td>\n",
              "      <td>8</td>\n",
              "      <td>8</td>\n",
              "      <td>7</td>\n",
              "      <td>3</td>\n",
              "      <td>0</td>\n",
              "      <td>Very High</td>\n",
              "      <td>3</td>\n",
              "      <td>Better</td>\n",
              "      <td>High</td>\n",
              "      <td>No</td>\n",
              "    </tr>\n",
              "    <tr>\n",
              "      <th>4</th>\n",
              "      <td>1</td>\n",
              "      <td>7</td>\n",
              "      <td>Research &amp; Development</td>\n",
              "      <td>Laboratory Technician</td>\n",
              "      <td>Male</td>\n",
              "      <td>27</td>\n",
              "      <td>Married</td>\n",
              "      <td>Below College</td>\n",
              "      <td>Medical</td>\n",
              "      <td>Travel_Rarely</td>\n",
              "      <td>...</td>\n",
              "      <td>6</td>\n",
              "      <td>2</td>\n",
              "      <td>2</td>\n",
              "      <td>2</td>\n",
              "      <td>2</td>\n",
              "      <td>Low</td>\n",
              "      <td>3</td>\n",
              "      <td>Better</td>\n",
              "      <td>Very High</td>\n",
              "      <td>No</td>\n",
              "    </tr>\n",
              "    <tr>\n",
              "      <th>...</th>\n",
              "      <td>...</td>\n",
              "      <td>...</td>\n",
              "      <td>...</td>\n",
              "      <td>...</td>\n",
              "      <td>...</td>\n",
              "      <td>...</td>\n",
              "      <td>...</td>\n",
              "      <td>...</td>\n",
              "      <td>...</td>\n",
              "      <td>...</td>\n",
              "      <td>...</td>\n",
              "      <td>...</td>\n",
              "      <td>...</td>\n",
              "      <td>...</td>\n",
              "      <td>...</td>\n",
              "      <td>...</td>\n",
              "      <td>...</td>\n",
              "      <td>...</td>\n",
              "      <td>...</td>\n",
              "      <td>...</td>\n",
              "      <td>...</td>\n",
              "    </tr>\n",
              "    <tr>\n",
              "      <th>1465</th>\n",
              "      <td>1</td>\n",
              "      <td>2061</td>\n",
              "      <td>Research &amp; Development</td>\n",
              "      <td>Laboratory Technician</td>\n",
              "      <td>Male</td>\n",
              "      <td>36</td>\n",
              "      <td>Married</td>\n",
              "      <td>College</td>\n",
              "      <td>Medical</td>\n",
              "      <td>Travel_Frequently</td>\n",
              "      <td>...</td>\n",
              "      <td>17</td>\n",
              "      <td>5</td>\n",
              "      <td>2</td>\n",
              "      <td>0</td>\n",
              "      <td>3</td>\n",
              "      <td>High</td>\n",
              "      <td>3</td>\n",
              "      <td>Better</td>\n",
              "      <td>High</td>\n",
              "      <td>No</td>\n",
              "    </tr>\n",
              "    <tr>\n",
              "      <th>1466</th>\n",
              "      <td>1</td>\n",
              "      <td>2062</td>\n",
              "      <td>Research &amp; Development</td>\n",
              "      <td>Healthcare Representative</td>\n",
              "      <td>Male</td>\n",
              "      <td>39</td>\n",
              "      <td>Married</td>\n",
              "      <td>Below College</td>\n",
              "      <td>Medical</td>\n",
              "      <td>Travel_Rarely</td>\n",
              "      <td>...</td>\n",
              "      <td>9</td>\n",
              "      <td>7</td>\n",
              "      <td>7</td>\n",
              "      <td>1</td>\n",
              "      <td>7</td>\n",
              "      <td>Very High</td>\n",
              "      <td>5</td>\n",
              "      <td>Better</td>\n",
              "      <td>Low</td>\n",
              "      <td>No</td>\n",
              "    </tr>\n",
              "    <tr>\n",
              "      <th>1467</th>\n",
              "      <td>1</td>\n",
              "      <td>2064</td>\n",
              "      <td>Research &amp; Development</td>\n",
              "      <td>Manufacturing Director</td>\n",
              "      <td>Male</td>\n",
              "      <td>27</td>\n",
              "      <td>Married</td>\n",
              "      <td>Bachelor</td>\n",
              "      <td>Life Sciences</td>\n",
              "      <td>Travel_Rarely</td>\n",
              "      <td>...</td>\n",
              "      <td>6</td>\n",
              "      <td>6</td>\n",
              "      <td>2</td>\n",
              "      <td>0</td>\n",
              "      <td>3</td>\n",
              "      <td>Medium</td>\n",
              "      <td>0</td>\n",
              "      <td>Better</td>\n",
              "      <td>Medium</td>\n",
              "      <td>No</td>\n",
              "    </tr>\n",
              "    <tr>\n",
              "      <th>1468</th>\n",
              "      <td>1</td>\n",
              "      <td>2065</td>\n",
              "      <td>Sales</td>\n",
              "      <td>Sales Executive</td>\n",
              "      <td>Male</td>\n",
              "      <td>49</td>\n",
              "      <td>Married</td>\n",
              "      <td>Bachelor</td>\n",
              "      <td>Medical</td>\n",
              "      <td>Travel_Frequently</td>\n",
              "      <td>...</td>\n",
              "      <td>17</td>\n",
              "      <td>9</td>\n",
              "      <td>6</td>\n",
              "      <td>0</td>\n",
              "      <td>8</td>\n",
              "      <td>Very High</td>\n",
              "      <td>3</td>\n",
              "      <td>Good</td>\n",
              "      <td>Very High</td>\n",
              "      <td>No</td>\n",
              "    </tr>\n",
              "    <tr>\n",
              "      <th>1469</th>\n",
              "      <td>1</td>\n",
              "      <td>2068</td>\n",
              "      <td>Research &amp; Development</td>\n",
              "      <td>Laboratory Technician</td>\n",
              "      <td>Male</td>\n",
              "      <td>34</td>\n",
              "      <td>Married</td>\n",
              "      <td>Bachelor</td>\n",
              "      <td>Medical</td>\n",
              "      <td>Travel_Rarely</td>\n",
              "      <td>...</td>\n",
              "      <td>6</td>\n",
              "      <td>4</td>\n",
              "      <td>3</td>\n",
              "      <td>1</td>\n",
              "      <td>2</td>\n",
              "      <td>Medium</td>\n",
              "      <td>3</td>\n",
              "      <td>Best</td>\n",
              "      <td>Low</td>\n",
              "      <td>No</td>\n",
              "    </tr>\n",
              "  </tbody>\n",
              "</table>\n",
              "<p>1470 rows × 29 columns</p>\n",
              "</div>\n",
              "      <button class=\"colab-df-convert\" onclick=\"convertToInteractive('df-d6dfc537-36b3-467d-aa0a-fbca7f8e3a6c')\"\n",
              "              title=\"Convert this dataframe to an interactive table.\"\n",
              "              style=\"display:none;\">\n",
              "        \n",
              "  <svg xmlns=\"http://www.w3.org/2000/svg\" height=\"24px\"viewBox=\"0 0 24 24\"\n",
              "       width=\"24px\">\n",
              "    <path d=\"M0 0h24v24H0V0z\" fill=\"none\"/>\n",
              "    <path d=\"M18.56 5.44l.94 2.06.94-2.06 2.06-.94-2.06-.94-.94-2.06-.94 2.06-2.06.94zm-11 1L8.5 8.5l.94-2.06 2.06-.94-2.06-.94L8.5 2.5l-.94 2.06-2.06.94zm10 10l.94 2.06.94-2.06 2.06-.94-2.06-.94-.94-2.06-.94 2.06-2.06.94z\"/><path d=\"M17.41 7.96l-1.37-1.37c-.4-.4-.92-.59-1.43-.59-.52 0-1.04.2-1.43.59L10.3 9.45l-7.72 7.72c-.78.78-.78 2.05 0 2.83L4 21.41c.39.39.9.59 1.41.59.51 0 1.02-.2 1.41-.59l7.78-7.78 2.81-2.81c.8-.78.8-2.07 0-2.86zM5.41 20L4 18.59l7.72-7.72 1.47 1.35L5.41 20z\"/>\n",
              "  </svg>\n",
              "      </button>\n",
              "      \n",
              "  <style>\n",
              "    .colab-df-container {\n",
              "      display:flex;\n",
              "      flex-wrap:wrap;\n",
              "      gap: 12px;\n",
              "    }\n",
              "\n",
              "    .colab-df-convert {\n",
              "      background-color: #E8F0FE;\n",
              "      border: none;\n",
              "      border-radius: 50%;\n",
              "      cursor: pointer;\n",
              "      display: none;\n",
              "      fill: #1967D2;\n",
              "      height: 32px;\n",
              "      padding: 0 0 0 0;\n",
              "      width: 32px;\n",
              "    }\n",
              "\n",
              "    .colab-df-convert:hover {\n",
              "      background-color: #E2EBFA;\n",
              "      box-shadow: 0px 1px 2px rgba(60, 64, 67, 0.3), 0px 1px 3px 1px rgba(60, 64, 67, 0.15);\n",
              "      fill: #174EA6;\n",
              "    }\n",
              "\n",
              "    [theme=dark] .colab-df-convert {\n",
              "      background-color: #3B4455;\n",
              "      fill: #D2E3FC;\n",
              "    }\n",
              "\n",
              "    [theme=dark] .colab-df-convert:hover {\n",
              "      background-color: #434B5C;\n",
              "      box-shadow: 0px 1px 3px 1px rgba(0, 0, 0, 0.15);\n",
              "      filter: drop-shadow(0px 1px 2px rgba(0, 0, 0, 0.3));\n",
              "      fill: #FFFFFF;\n",
              "    }\n",
              "  </style>\n",
              "\n",
              "      <script>\n",
              "        const buttonEl =\n",
              "          document.querySelector('#df-d6dfc537-36b3-467d-aa0a-fbca7f8e3a6c button.colab-df-convert');\n",
              "        buttonEl.style.display =\n",
              "          google.colab.kernel.accessAllowed ? 'block' : 'none';\n",
              "\n",
              "        async function convertToInteractive(key) {\n",
              "          const element = document.querySelector('#df-d6dfc537-36b3-467d-aa0a-fbca7f8e3a6c');\n",
              "          const dataTable =\n",
              "            await google.colab.kernel.invokeFunction('convertToInteractive',\n",
              "                                                     [key], {});\n",
              "          if (!dataTable) return;\n",
              "\n",
              "          const docLinkHtml = 'Like what you see? Visit the ' +\n",
              "            '<a target=\"_blank\" href=https://colab.research.google.com/notebooks/data_table.ipynb>data table notebook</a>'\n",
              "            + ' to learn more about interactive tables.';\n",
              "          element.innerHTML = '';\n",
              "          dataTable['output_type'] = 'display_data';\n",
              "          await google.colab.output.renderOutput(dataTable, element);\n",
              "          const docLink = document.createElement('div');\n",
              "          docLink.innerHTML = docLinkHtml;\n",
              "          element.appendChild(docLink);\n",
              "        }\n",
              "      </script>\n",
              "    </div>\n",
              "  </div>\n",
              "  "
            ]
          },
          "metadata": {},
          "execution_count": 6
        }
      ],
      "source": [
        "df = pd.read_csv('Employee-turnover.csv')\n",
        "df"
      ]
    },
    {
      "cell_type": "code",
      "execution_count": null,
      "metadata": {
        "colab": {
          "base_uri": "https://localhost:8080/"
        },
        "id": "hqWhPH61Eonq",
        "outputId": "9c70dde8-172d-4f5d-9343-89e0ce472eb7"
      },
      "outputs": [
        {
          "output_type": "execute_result",
          "data": {
            "text/plain": [
              "(1470, 29)"
            ]
          },
          "metadata": {},
          "execution_count": 7
        }
      ],
      "source": [
        "df.shape #number of columns and rows in dataset"
      ]
    },
    {
      "cell_type": "markdown",
      "metadata": {
        "id": "h_sHtNJyF5hN"
      },
      "source": [
        "EXPLORING THE DATASET"
      ]
    },
    {
      "cell_type": "code",
      "execution_count": null,
      "metadata": {
        "colab": {
          "base_uri": "https://localhost:8080/",
          "height": 399
        },
        "id": "_24os1itFpNg",
        "outputId": "d67261a6-8ba6-4ac2-b8c5-0fcecf8730e2"
      },
      "outputs": [
        {
          "output_type": "execute_result",
          "data": {
            "text/plain": [
              "       Employee Count  Employee ID          Age  Distance From Home (kms)  \\\n",
              "count          1470.0  1470.000000  1470.000000               1470.000000   \n",
              "mean              1.0  1024.865306    36.923810                  9.192517   \n",
              "std               0.0   602.024335     9.135373                  8.106864   \n",
              "min               1.0     1.000000    18.000000                  1.000000   \n",
              "25%               1.0   491.250000    30.000000                  2.000000   \n",
              "50%               1.0  1020.500000    36.000000                  7.000000   \n",
              "75%               1.0  1555.750000    43.000000                 14.000000   \n",
              "max               1.0  2068.000000    60.000000                 29.000000   \n",
              "\n",
              "         Job Level  Monthly Income (USD)  Salary Hike (%)  Stock Option Level  \\\n",
              "count  1470.000000           1470.000000      1470.000000         1470.000000   \n",
              "mean      2.063946           6502.931293        14.951701            0.793878   \n",
              "std       1.106940           4707.956783         3.533904            0.852077   \n",
              "min       1.000000           1009.000000        10.000000            0.000000   \n",
              "25%       1.000000           2911.000000        12.000000            0.000000   \n",
              "50%       2.000000           4919.000000        14.000000            1.000000   \n",
              "75%       3.000000           8379.000000        17.000000            1.000000   \n",
              "max       5.000000          19999.000000        25.000000            3.000000   \n",
              "\n",
              "       No. of Companies Worked  Total Working Years  Years At Company  \\\n",
              "count              1470.000000          1470.000000       1470.000000   \n",
              "mean                  2.689116            11.279592          7.008163   \n",
              "std                   2.494231             7.780782          6.126525   \n",
              "min                   0.000000             0.000000          0.000000   \n",
              "25%                   1.000000             6.000000          3.000000   \n",
              "50%                   2.000000            10.000000          5.000000   \n",
              "75%                   4.000000            15.000000          9.000000   \n",
              "max                   9.000000            40.000000         40.000000   \n",
              "\n",
              "       Years In Current Role  Years Since Last Promotion  \\\n",
              "count            1470.000000                 1470.000000   \n",
              "mean                4.229252                    2.187755   \n",
              "std                 3.623137                    3.222430   \n",
              "min                 0.000000                    0.000000   \n",
              "25%                 2.000000                    0.000000   \n",
              "50%                 3.000000                    1.000000   \n",
              "75%                 7.000000                    3.000000   \n",
              "max                18.000000                   15.000000   \n",
              "\n",
              "       Years With Curr Manager  Training Times Last Year  \n",
              "count              1470.000000               1470.000000  \n",
              "mean                  4.123129                  2.799320  \n",
              "std                   3.568136                  1.289271  \n",
              "min                   0.000000                  0.000000  \n",
              "25%                   2.000000                  2.000000  \n",
              "50%                   3.000000                  3.000000  \n",
              "75%                   7.000000                  3.000000  \n",
              "max                  17.000000                  6.000000  "
            ],
            "text/html": [
              "\n",
              "  <div id=\"df-b8f9c392-2440-460d-af71-57b8d6bb3bd7\">\n",
              "    <div class=\"colab-df-container\">\n",
              "      <div>\n",
              "<style scoped>\n",
              "    .dataframe tbody tr th:only-of-type {\n",
              "        vertical-align: middle;\n",
              "    }\n",
              "\n",
              "    .dataframe tbody tr th {\n",
              "        vertical-align: top;\n",
              "    }\n",
              "\n",
              "    .dataframe thead th {\n",
              "        text-align: right;\n",
              "    }\n",
              "</style>\n",
              "<table border=\"1\" class=\"dataframe\">\n",
              "  <thead>\n",
              "    <tr style=\"text-align: right;\">\n",
              "      <th></th>\n",
              "      <th>Employee Count</th>\n",
              "      <th>Employee ID</th>\n",
              "      <th>Age</th>\n",
              "      <th>Distance From Home (kms)</th>\n",
              "      <th>Job Level</th>\n",
              "      <th>Monthly Income (USD)</th>\n",
              "      <th>Salary Hike (%)</th>\n",
              "      <th>Stock Option Level</th>\n",
              "      <th>No. of Companies Worked</th>\n",
              "      <th>Total Working Years</th>\n",
              "      <th>Years At Company</th>\n",
              "      <th>Years In Current Role</th>\n",
              "      <th>Years Since Last Promotion</th>\n",
              "      <th>Years With Curr Manager</th>\n",
              "      <th>Training Times Last Year</th>\n",
              "    </tr>\n",
              "  </thead>\n",
              "  <tbody>\n",
              "    <tr>\n",
              "      <th>count</th>\n",
              "      <td>1470.0</td>\n",
              "      <td>1470.000000</td>\n",
              "      <td>1470.000000</td>\n",
              "      <td>1470.000000</td>\n",
              "      <td>1470.000000</td>\n",
              "      <td>1470.000000</td>\n",
              "      <td>1470.000000</td>\n",
              "      <td>1470.000000</td>\n",
              "      <td>1470.000000</td>\n",
              "      <td>1470.000000</td>\n",
              "      <td>1470.000000</td>\n",
              "      <td>1470.000000</td>\n",
              "      <td>1470.000000</td>\n",
              "      <td>1470.000000</td>\n",
              "      <td>1470.000000</td>\n",
              "    </tr>\n",
              "    <tr>\n",
              "      <th>mean</th>\n",
              "      <td>1.0</td>\n",
              "      <td>1024.865306</td>\n",
              "      <td>36.923810</td>\n",
              "      <td>9.192517</td>\n",
              "      <td>2.063946</td>\n",
              "      <td>6502.931293</td>\n",
              "      <td>14.951701</td>\n",
              "      <td>0.793878</td>\n",
              "      <td>2.689116</td>\n",
              "      <td>11.279592</td>\n",
              "      <td>7.008163</td>\n",
              "      <td>4.229252</td>\n",
              "      <td>2.187755</td>\n",
              "      <td>4.123129</td>\n",
              "      <td>2.799320</td>\n",
              "    </tr>\n",
              "    <tr>\n",
              "      <th>std</th>\n",
              "      <td>0.0</td>\n",
              "      <td>602.024335</td>\n",
              "      <td>9.135373</td>\n",
              "      <td>8.106864</td>\n",
              "      <td>1.106940</td>\n",
              "      <td>4707.956783</td>\n",
              "      <td>3.533904</td>\n",
              "      <td>0.852077</td>\n",
              "      <td>2.494231</td>\n",
              "      <td>7.780782</td>\n",
              "      <td>6.126525</td>\n",
              "      <td>3.623137</td>\n",
              "      <td>3.222430</td>\n",
              "      <td>3.568136</td>\n",
              "      <td>1.289271</td>\n",
              "    </tr>\n",
              "    <tr>\n",
              "      <th>min</th>\n",
              "      <td>1.0</td>\n",
              "      <td>1.000000</td>\n",
              "      <td>18.000000</td>\n",
              "      <td>1.000000</td>\n",
              "      <td>1.000000</td>\n",
              "      <td>1009.000000</td>\n",
              "      <td>10.000000</td>\n",
              "      <td>0.000000</td>\n",
              "      <td>0.000000</td>\n",
              "      <td>0.000000</td>\n",
              "      <td>0.000000</td>\n",
              "      <td>0.000000</td>\n",
              "      <td>0.000000</td>\n",
              "      <td>0.000000</td>\n",
              "      <td>0.000000</td>\n",
              "    </tr>\n",
              "    <tr>\n",
              "      <th>25%</th>\n",
              "      <td>1.0</td>\n",
              "      <td>491.250000</td>\n",
              "      <td>30.000000</td>\n",
              "      <td>2.000000</td>\n",
              "      <td>1.000000</td>\n",
              "      <td>2911.000000</td>\n",
              "      <td>12.000000</td>\n",
              "      <td>0.000000</td>\n",
              "      <td>1.000000</td>\n",
              "      <td>6.000000</td>\n",
              "      <td>3.000000</td>\n",
              "      <td>2.000000</td>\n",
              "      <td>0.000000</td>\n",
              "      <td>2.000000</td>\n",
              "      <td>2.000000</td>\n",
              "    </tr>\n",
              "    <tr>\n",
              "      <th>50%</th>\n",
              "      <td>1.0</td>\n",
              "      <td>1020.500000</td>\n",
              "      <td>36.000000</td>\n",
              "      <td>7.000000</td>\n",
              "      <td>2.000000</td>\n",
              "      <td>4919.000000</td>\n",
              "      <td>14.000000</td>\n",
              "      <td>1.000000</td>\n",
              "      <td>2.000000</td>\n",
              "      <td>10.000000</td>\n",
              "      <td>5.000000</td>\n",
              "      <td>3.000000</td>\n",
              "      <td>1.000000</td>\n",
              "      <td>3.000000</td>\n",
              "      <td>3.000000</td>\n",
              "    </tr>\n",
              "    <tr>\n",
              "      <th>75%</th>\n",
              "      <td>1.0</td>\n",
              "      <td>1555.750000</td>\n",
              "      <td>43.000000</td>\n",
              "      <td>14.000000</td>\n",
              "      <td>3.000000</td>\n",
              "      <td>8379.000000</td>\n",
              "      <td>17.000000</td>\n",
              "      <td>1.000000</td>\n",
              "      <td>4.000000</td>\n",
              "      <td>15.000000</td>\n",
              "      <td>9.000000</td>\n",
              "      <td>7.000000</td>\n",
              "      <td>3.000000</td>\n",
              "      <td>7.000000</td>\n",
              "      <td>3.000000</td>\n",
              "    </tr>\n",
              "    <tr>\n",
              "      <th>max</th>\n",
              "      <td>1.0</td>\n",
              "      <td>2068.000000</td>\n",
              "      <td>60.000000</td>\n",
              "      <td>29.000000</td>\n",
              "      <td>5.000000</td>\n",
              "      <td>19999.000000</td>\n",
              "      <td>25.000000</td>\n",
              "      <td>3.000000</td>\n",
              "      <td>9.000000</td>\n",
              "      <td>40.000000</td>\n",
              "      <td>40.000000</td>\n",
              "      <td>18.000000</td>\n",
              "      <td>15.000000</td>\n",
              "      <td>17.000000</td>\n",
              "      <td>6.000000</td>\n",
              "    </tr>\n",
              "  </tbody>\n",
              "</table>\n",
              "</div>\n",
              "      <button class=\"colab-df-convert\" onclick=\"convertToInteractive('df-b8f9c392-2440-460d-af71-57b8d6bb3bd7')\"\n",
              "              title=\"Convert this dataframe to an interactive table.\"\n",
              "              style=\"display:none;\">\n",
              "        \n",
              "  <svg xmlns=\"http://www.w3.org/2000/svg\" height=\"24px\"viewBox=\"0 0 24 24\"\n",
              "       width=\"24px\">\n",
              "    <path d=\"M0 0h24v24H0V0z\" fill=\"none\"/>\n",
              "    <path d=\"M18.56 5.44l.94 2.06.94-2.06 2.06-.94-2.06-.94-.94-2.06-.94 2.06-2.06.94zm-11 1L8.5 8.5l.94-2.06 2.06-.94-2.06-.94L8.5 2.5l-.94 2.06-2.06.94zm10 10l.94 2.06.94-2.06 2.06-.94-2.06-.94-.94-2.06-.94 2.06-2.06.94z\"/><path d=\"M17.41 7.96l-1.37-1.37c-.4-.4-.92-.59-1.43-.59-.52 0-1.04.2-1.43.59L10.3 9.45l-7.72 7.72c-.78.78-.78 2.05 0 2.83L4 21.41c.39.39.9.59 1.41.59.51 0 1.02-.2 1.41-.59l7.78-7.78 2.81-2.81c.8-.78.8-2.07 0-2.86zM5.41 20L4 18.59l7.72-7.72 1.47 1.35L5.41 20z\"/>\n",
              "  </svg>\n",
              "      </button>\n",
              "      \n",
              "  <style>\n",
              "    .colab-df-container {\n",
              "      display:flex;\n",
              "      flex-wrap:wrap;\n",
              "      gap: 12px;\n",
              "    }\n",
              "\n",
              "    .colab-df-convert {\n",
              "      background-color: #E8F0FE;\n",
              "      border: none;\n",
              "      border-radius: 50%;\n",
              "      cursor: pointer;\n",
              "      display: none;\n",
              "      fill: #1967D2;\n",
              "      height: 32px;\n",
              "      padding: 0 0 0 0;\n",
              "      width: 32px;\n",
              "    }\n",
              "\n",
              "    .colab-df-convert:hover {\n",
              "      background-color: #E2EBFA;\n",
              "      box-shadow: 0px 1px 2px rgba(60, 64, 67, 0.3), 0px 1px 3px 1px rgba(60, 64, 67, 0.15);\n",
              "      fill: #174EA6;\n",
              "    }\n",
              "\n",
              "    [theme=dark] .colab-df-convert {\n",
              "      background-color: #3B4455;\n",
              "      fill: #D2E3FC;\n",
              "    }\n",
              "\n",
              "    [theme=dark] .colab-df-convert:hover {\n",
              "      background-color: #434B5C;\n",
              "      box-shadow: 0px 1px 3px 1px rgba(0, 0, 0, 0.15);\n",
              "      filter: drop-shadow(0px 1px 2px rgba(0, 0, 0, 0.3));\n",
              "      fill: #FFFFFF;\n",
              "    }\n",
              "  </style>\n",
              "\n",
              "      <script>\n",
              "        const buttonEl =\n",
              "          document.querySelector('#df-b8f9c392-2440-460d-af71-57b8d6bb3bd7 button.colab-df-convert');\n",
              "        buttonEl.style.display =\n",
              "          google.colab.kernel.accessAllowed ? 'block' : 'none';\n",
              "\n",
              "        async function convertToInteractive(key) {\n",
              "          const element = document.querySelector('#df-b8f9c392-2440-460d-af71-57b8d6bb3bd7');\n",
              "          const dataTable =\n",
              "            await google.colab.kernel.invokeFunction('convertToInteractive',\n",
              "                                                     [key], {});\n",
              "          if (!dataTable) return;\n",
              "\n",
              "          const docLinkHtml = 'Like what you see? Visit the ' +\n",
              "            '<a target=\"_blank\" href=https://colab.research.google.com/notebooks/data_table.ipynb>data table notebook</a>'\n",
              "            + ' to learn more about interactive tables.';\n",
              "          element.innerHTML = '';\n",
              "          dataTable['output_type'] = 'display_data';\n",
              "          await google.colab.output.renderOutput(dataTable, element);\n",
              "          const docLink = document.createElement('div');\n",
              "          docLink.innerHTML = docLinkHtml;\n",
              "          element.appendChild(docLink);\n",
              "        }\n",
              "      </script>\n",
              "    </div>\n",
              "  </div>\n",
              "  "
            ]
          },
          "metadata": {},
          "execution_count": 8
        }
      ],
      "source": [
        "df.describe()"
      ]
    },
    {
      "cell_type": "code",
      "execution_count": null,
      "metadata": {
        "colab": {
          "base_uri": "https://localhost:8080/",
          "height": 438
        },
        "id": "2N7JaNbLF-MD",
        "outputId": "fe332e42-a8f1-4c95-b5bf-8d199d98f3e6"
      },
      "outputs": [
        {
          "output_type": "execute_result",
          "data": {
            "text/plain": [
              "   Employee Count  Employee ID              Department               Job Role  \\\n",
              "0               1            1                   Sales        Sales Executive   \n",
              "1               1            2  Research & Development     Research Scientist   \n",
              "2               1            4  Research & Development  Laboratory Technician   \n",
              "3               1            5  Research & Development     Research Scientist   \n",
              "4               1            7  Research & Development  Laboratory Technician   \n",
              "\n",
              "   Gender  Age Marital Status      Education Education Field  \\\n",
              "0  Female   41         Single        College   Life Sciences   \n",
              "1    Male   49        Married  Below College   Life Sciences   \n",
              "2    Male   37         Single        College           Other   \n",
              "3  Female   33        Married         Master   Life Sciences   \n",
              "4    Male   27        Married  Below College         Medical   \n",
              "\n",
              "     Business Travel  ...  Total Working Years Years At Company  \\\n",
              "0      Travel_Rarely  ...                    8                6   \n",
              "1  Travel_Frequently  ...                   10               10   \n",
              "2      Travel_Rarely  ...                    7                0   \n",
              "3  Travel_Frequently  ...                    8                8   \n",
              "4      Travel_Rarely  ...                    6                2   \n",
              "\n",
              "   Years In Current Role Years Since Last Promotion  Years With Curr Manager  \\\n",
              "0                      4                          0                        5   \n",
              "1                      7                          1                        7   \n",
              "2                      0                          0                        0   \n",
              "3                      7                          3                        0   \n",
              "4                      2                          2                        2   \n",
              "\n",
              "   Environment Satisfaction  Training Times Last Year Work Life Balance  \\\n",
              "0                    Medium                         0               Bad   \n",
              "1                      High                         3            Better   \n",
              "2                       Low                         3               Bad   \n",
              "3                 Very High                         3            Better   \n",
              "4                       Low                         3            Better   \n",
              "\n",
              "   Relationship Satisfaction  Attrition (Yes/No)  \n",
              "0                        Low                 Yes  \n",
              "1                  Very High                  No  \n",
              "2                     Medium                 Yes  \n",
              "3                       High                  No  \n",
              "4                  Very High                  No  \n",
              "\n",
              "[5 rows x 29 columns]"
            ],
            "text/html": [
              "\n",
              "  <div id=\"df-dd1df804-5684-43c1-ac3d-2f72d27c1c72\">\n",
              "    <div class=\"colab-df-container\">\n",
              "      <div>\n",
              "<style scoped>\n",
              "    .dataframe tbody tr th:only-of-type {\n",
              "        vertical-align: middle;\n",
              "    }\n",
              "\n",
              "    .dataframe tbody tr th {\n",
              "        vertical-align: top;\n",
              "    }\n",
              "\n",
              "    .dataframe thead th {\n",
              "        text-align: right;\n",
              "    }\n",
              "</style>\n",
              "<table border=\"1\" class=\"dataframe\">\n",
              "  <thead>\n",
              "    <tr style=\"text-align: right;\">\n",
              "      <th></th>\n",
              "      <th>Employee Count</th>\n",
              "      <th>Employee ID</th>\n",
              "      <th>Department</th>\n",
              "      <th>Job Role</th>\n",
              "      <th>Gender</th>\n",
              "      <th>Age</th>\n",
              "      <th>Marital Status</th>\n",
              "      <th>Education</th>\n",
              "      <th>Education Field</th>\n",
              "      <th>Business Travel</th>\n",
              "      <th>...</th>\n",
              "      <th>Total Working Years</th>\n",
              "      <th>Years At Company</th>\n",
              "      <th>Years In Current Role</th>\n",
              "      <th>Years Since Last Promotion</th>\n",
              "      <th>Years With Curr Manager</th>\n",
              "      <th>Environment Satisfaction</th>\n",
              "      <th>Training Times Last Year</th>\n",
              "      <th>Work Life Balance</th>\n",
              "      <th>Relationship Satisfaction</th>\n",
              "      <th>Attrition (Yes/No)</th>\n",
              "    </tr>\n",
              "  </thead>\n",
              "  <tbody>\n",
              "    <tr>\n",
              "      <th>0</th>\n",
              "      <td>1</td>\n",
              "      <td>1</td>\n",
              "      <td>Sales</td>\n",
              "      <td>Sales Executive</td>\n",
              "      <td>Female</td>\n",
              "      <td>41</td>\n",
              "      <td>Single</td>\n",
              "      <td>College</td>\n",
              "      <td>Life Sciences</td>\n",
              "      <td>Travel_Rarely</td>\n",
              "      <td>...</td>\n",
              "      <td>8</td>\n",
              "      <td>6</td>\n",
              "      <td>4</td>\n",
              "      <td>0</td>\n",
              "      <td>5</td>\n",
              "      <td>Medium</td>\n",
              "      <td>0</td>\n",
              "      <td>Bad</td>\n",
              "      <td>Low</td>\n",
              "      <td>Yes</td>\n",
              "    </tr>\n",
              "    <tr>\n",
              "      <th>1</th>\n",
              "      <td>1</td>\n",
              "      <td>2</td>\n",
              "      <td>Research &amp; Development</td>\n",
              "      <td>Research Scientist</td>\n",
              "      <td>Male</td>\n",
              "      <td>49</td>\n",
              "      <td>Married</td>\n",
              "      <td>Below College</td>\n",
              "      <td>Life Sciences</td>\n",
              "      <td>Travel_Frequently</td>\n",
              "      <td>...</td>\n",
              "      <td>10</td>\n",
              "      <td>10</td>\n",
              "      <td>7</td>\n",
              "      <td>1</td>\n",
              "      <td>7</td>\n",
              "      <td>High</td>\n",
              "      <td>3</td>\n",
              "      <td>Better</td>\n",
              "      <td>Very High</td>\n",
              "      <td>No</td>\n",
              "    </tr>\n",
              "    <tr>\n",
              "      <th>2</th>\n",
              "      <td>1</td>\n",
              "      <td>4</td>\n",
              "      <td>Research &amp; Development</td>\n",
              "      <td>Laboratory Technician</td>\n",
              "      <td>Male</td>\n",
              "      <td>37</td>\n",
              "      <td>Single</td>\n",
              "      <td>College</td>\n",
              "      <td>Other</td>\n",
              "      <td>Travel_Rarely</td>\n",
              "      <td>...</td>\n",
              "      <td>7</td>\n",
              "      <td>0</td>\n",
              "      <td>0</td>\n",
              "      <td>0</td>\n",
              "      <td>0</td>\n",
              "      <td>Low</td>\n",
              "      <td>3</td>\n",
              "      <td>Bad</td>\n",
              "      <td>Medium</td>\n",
              "      <td>Yes</td>\n",
              "    </tr>\n",
              "    <tr>\n",
              "      <th>3</th>\n",
              "      <td>1</td>\n",
              "      <td>5</td>\n",
              "      <td>Research &amp; Development</td>\n",
              "      <td>Research Scientist</td>\n",
              "      <td>Female</td>\n",
              "      <td>33</td>\n",
              "      <td>Married</td>\n",
              "      <td>Master</td>\n",
              "      <td>Life Sciences</td>\n",
              "      <td>Travel_Frequently</td>\n",
              "      <td>...</td>\n",
              "      <td>8</td>\n",
              "      <td>8</td>\n",
              "      <td>7</td>\n",
              "      <td>3</td>\n",
              "      <td>0</td>\n",
              "      <td>Very High</td>\n",
              "      <td>3</td>\n",
              "      <td>Better</td>\n",
              "      <td>High</td>\n",
              "      <td>No</td>\n",
              "    </tr>\n",
              "    <tr>\n",
              "      <th>4</th>\n",
              "      <td>1</td>\n",
              "      <td>7</td>\n",
              "      <td>Research &amp; Development</td>\n",
              "      <td>Laboratory Technician</td>\n",
              "      <td>Male</td>\n",
              "      <td>27</td>\n",
              "      <td>Married</td>\n",
              "      <td>Below College</td>\n",
              "      <td>Medical</td>\n",
              "      <td>Travel_Rarely</td>\n",
              "      <td>...</td>\n",
              "      <td>6</td>\n",
              "      <td>2</td>\n",
              "      <td>2</td>\n",
              "      <td>2</td>\n",
              "      <td>2</td>\n",
              "      <td>Low</td>\n",
              "      <td>3</td>\n",
              "      <td>Better</td>\n",
              "      <td>Very High</td>\n",
              "      <td>No</td>\n",
              "    </tr>\n",
              "  </tbody>\n",
              "</table>\n",
              "<p>5 rows × 29 columns</p>\n",
              "</div>\n",
              "      <button class=\"colab-df-convert\" onclick=\"convertToInteractive('df-dd1df804-5684-43c1-ac3d-2f72d27c1c72')\"\n",
              "              title=\"Convert this dataframe to an interactive table.\"\n",
              "              style=\"display:none;\">\n",
              "        \n",
              "  <svg xmlns=\"http://www.w3.org/2000/svg\" height=\"24px\"viewBox=\"0 0 24 24\"\n",
              "       width=\"24px\">\n",
              "    <path d=\"M0 0h24v24H0V0z\" fill=\"none\"/>\n",
              "    <path d=\"M18.56 5.44l.94 2.06.94-2.06 2.06-.94-2.06-.94-.94-2.06-.94 2.06-2.06.94zm-11 1L8.5 8.5l.94-2.06 2.06-.94-2.06-.94L8.5 2.5l-.94 2.06-2.06.94zm10 10l.94 2.06.94-2.06 2.06-.94-2.06-.94-.94-2.06-.94 2.06-2.06.94z\"/><path d=\"M17.41 7.96l-1.37-1.37c-.4-.4-.92-.59-1.43-.59-.52 0-1.04.2-1.43.59L10.3 9.45l-7.72 7.72c-.78.78-.78 2.05 0 2.83L4 21.41c.39.39.9.59 1.41.59.51 0 1.02-.2 1.41-.59l7.78-7.78 2.81-2.81c.8-.78.8-2.07 0-2.86zM5.41 20L4 18.59l7.72-7.72 1.47 1.35L5.41 20z\"/>\n",
              "  </svg>\n",
              "      </button>\n",
              "      \n",
              "  <style>\n",
              "    .colab-df-container {\n",
              "      display:flex;\n",
              "      flex-wrap:wrap;\n",
              "      gap: 12px;\n",
              "    }\n",
              "\n",
              "    .colab-df-convert {\n",
              "      background-color: #E8F0FE;\n",
              "      border: none;\n",
              "      border-radius: 50%;\n",
              "      cursor: pointer;\n",
              "      display: none;\n",
              "      fill: #1967D2;\n",
              "      height: 32px;\n",
              "      padding: 0 0 0 0;\n",
              "      width: 32px;\n",
              "    }\n",
              "\n",
              "    .colab-df-convert:hover {\n",
              "      background-color: #E2EBFA;\n",
              "      box-shadow: 0px 1px 2px rgba(60, 64, 67, 0.3), 0px 1px 3px 1px rgba(60, 64, 67, 0.15);\n",
              "      fill: #174EA6;\n",
              "    }\n",
              "\n",
              "    [theme=dark] .colab-df-convert {\n",
              "      background-color: #3B4455;\n",
              "      fill: #D2E3FC;\n",
              "    }\n",
              "\n",
              "    [theme=dark] .colab-df-convert:hover {\n",
              "      background-color: #434B5C;\n",
              "      box-shadow: 0px 1px 3px 1px rgba(0, 0, 0, 0.15);\n",
              "      filter: drop-shadow(0px 1px 2px rgba(0, 0, 0, 0.3));\n",
              "      fill: #FFFFFF;\n",
              "    }\n",
              "  </style>\n",
              "\n",
              "      <script>\n",
              "        const buttonEl =\n",
              "          document.querySelector('#df-dd1df804-5684-43c1-ac3d-2f72d27c1c72 button.colab-df-convert');\n",
              "        buttonEl.style.display =\n",
              "          google.colab.kernel.accessAllowed ? 'block' : 'none';\n",
              "\n",
              "        async function convertToInteractive(key) {\n",
              "          const element = document.querySelector('#df-dd1df804-5684-43c1-ac3d-2f72d27c1c72');\n",
              "          const dataTable =\n",
              "            await google.colab.kernel.invokeFunction('convertToInteractive',\n",
              "                                                     [key], {});\n",
              "          if (!dataTable) return;\n",
              "\n",
              "          const docLinkHtml = 'Like what you see? Visit the ' +\n",
              "            '<a target=\"_blank\" href=https://colab.research.google.com/notebooks/data_table.ipynb>data table notebook</a>'\n",
              "            + ' to learn more about interactive tables.';\n",
              "          element.innerHTML = '';\n",
              "          dataTable['output_type'] = 'display_data';\n",
              "          await google.colab.output.renderOutput(dataTable, element);\n",
              "          const docLink = document.createElement('div');\n",
              "          docLink.innerHTML = docLinkHtml;\n",
              "          element.appendChild(docLink);\n",
              "        }\n",
              "      </script>\n",
              "    </div>\n",
              "  </div>\n",
              "  "
            ]
          },
          "metadata": {},
          "execution_count": 9
        }
      ],
      "source": [
        "df.head()"
      ]
    },
    {
      "cell_type": "code",
      "execution_count": null,
      "metadata": {
        "colab": {
          "base_uri": "https://localhost:8080/"
        },
        "id": "6-I6CbCiGbax",
        "outputId": "cde194f8-fcd6-462d-dea3-4efc2be41145"
      },
      "outputs": [
        {
          "output_type": "execute_result",
          "data": {
            "text/plain": [
              "array(['Employee Count', 'Employee ID', 'Department', 'Job Role',\n",
              "       'Gender', 'Age', 'Marital Status', 'Education', 'Education Field',\n",
              "       'Business Travel', 'Distance From Home (kms)', 'Job Involvement',\n",
              "       'Job Level', 'Job Satisfaction', 'Monthly Income (USD)',\n",
              "       'Salary Hike (%)', 'Stock Option Level', 'Over Time',\n",
              "       'No. of Companies Worked', 'Total Working Years',\n",
              "       'Years At Company', 'Years In Current Role',\n",
              "       'Years Since Last Promotion', 'Years With Curr Manager',\n",
              "       'Environment Satisfaction', 'Training Times Last Year',\n",
              "       'Work Life Balance', 'Relationship Satisfaction',\n",
              "       'Attrition (Yes/No)'], dtype=object)"
            ]
          },
          "metadata": {},
          "execution_count": 10
        }
      ],
      "source": [
        "df.columns.values"
      ]
    },
    {
      "cell_type": "code",
      "execution_count": null,
      "metadata": {
        "colab": {
          "base_uri": "https://localhost:8080/"
        },
        "id": "qLKi9QmQGhfQ",
        "outputId": "b6d178f0-9b7a-42a9-c557-3dbd734bdf3e"
      },
      "outputs": [
        {
          "output_type": "execute_result",
          "data": {
            "text/plain": [
              "Employee Count                0\n",
              "Employee ID                   0\n",
              "Department                    0\n",
              "Job Role                      0\n",
              "Gender                        0\n",
              "Age                           0\n",
              "Marital Status                0\n",
              "Education                     0\n",
              "Education Field               0\n",
              "Business Travel               0\n",
              "Distance From Home (kms)      0\n",
              "Job Involvement               0\n",
              "Job Level                     0\n",
              "Job Satisfaction              0\n",
              "Monthly Income (USD)          0\n",
              "Salary Hike (%)               0\n",
              "Stock Option Level            0\n",
              "Over Time                     0\n",
              "No. of Companies Worked       0\n",
              "Total Working Years           0\n",
              "Years At Company              0\n",
              "Years In Current Role         0\n",
              "Years Since Last Promotion    0\n",
              "Years With Curr Manager       0\n",
              "Environment Satisfaction      0\n",
              "Training Times Last Year      0\n",
              "Work Life Balance             0\n",
              "Relationship Satisfaction     0\n",
              "Attrition (Yes/No)            0\n",
              "dtype: int64"
            ]
          },
          "metadata": {},
          "execution_count": 11
        }
      ],
      "source": [
        "df.isnull().sum() #To check if there are any null values in columns"
      ]
    },
    {
      "cell_type": "code",
      "execution_count": null,
      "metadata": {
        "colab": {
          "base_uri": "https://localhost:8080/"
        },
        "id": "rucaJeH-OJeK",
        "outputId": "6a4b39ac-f448-4dbb-e10f-2dc4bf44a78c"
      },
      "outputs": [
        {
          "output_type": "execute_result",
          "data": {
            "text/plain": [
              "Employee Count                   1\n",
              "Over Time                        2\n",
              "Gender                           2\n",
              "Attrition (Yes/No)               2\n",
              "Department                       3\n",
              "Marital Status                   3\n",
              "Business Travel                  3\n",
              "Work Life Balance                4\n",
              "Environment Satisfaction         4\n",
              "Relationship Satisfaction        4\n",
              "Job Satisfaction                 4\n",
              "Stock Option Level               4\n",
              "Job Involvement                  4\n",
              "Job Level                        5\n",
              "Education                        5\n",
              "Education Field                  6\n",
              "Training Times Last Year         7\n",
              "Job Role                         9\n",
              "No. of Companies Worked         10\n",
              "Salary Hike (%)                 16\n",
              "Years Since Last Promotion      16\n",
              "Years With Curr Manager         18\n",
              "Years In Current Role           19\n",
              "Distance From Home (kms)        29\n",
              "Years At Company                37\n",
              "Total Working Years             40\n",
              "Age                             43\n",
              "Monthly Income (USD)          1349\n",
              "Employee ID                   1470\n",
              "dtype: int64"
            ]
          },
          "metadata": {},
          "execution_count": 12
        }
      ],
      "source": [
        "df.nunique().sort_values() #number of unique values in each column"
      ]
    },
    {
      "cell_type": "code",
      "execution_count": null,
      "metadata": {
        "colab": {
          "base_uri": "https://localhost:8080/"
        },
        "id": "2OYIFalkG0d5",
        "outputId": "8fc52ad8-f122-459a-a895-e483583a9665"
      },
      "outputs": [
        {
          "output_type": "execute_result",
          "data": {
            "text/plain": [
              "No     1233\n",
              "Yes     237\n",
              "Name: Attrition (Yes/No), dtype: int64"
            ]
          },
          "metadata": {},
          "execution_count": 13
        }
      ],
      "source": [
        "attrition_count = df['Attrition (Yes/No)'].value_counts() #To count number of yes or no in the dataset\n",
        "attrition_count"
      ]
    },
    {
      "cell_type": "code",
      "execution_count": null,
      "metadata": {
        "colab": {
          "base_uri": "https://localhost:8080/",
          "height": 248
        },
        "id": "Q0KXi1OeHxN9",
        "outputId": "a35d45cd-fd19-473b-c2e9-93e770551a4c"
      },
      "outputs": [
        {
          "output_type": "display_data",
          "data": {
            "text/plain": [
              "<Figure size 432x288 with 1 Axes>"
            ],
            "image/png": "[encoded data removed]"
          },
          "metadata": {}
        }
      ],
      "source": [
        "plt.pie(attrition_count, labels = ['NO', 'YES'], explode = (0.3,0), autopct='%1.1f%%')\n",
        "plt.show()"
      ]
    },
    {
      "cell_type": "code",
      "execution_count": null,
      "metadata": {
        "colab": {
          "base_uri": "https://localhost:8080/",
          "height": 713
        },
        "id": "Vy6JEdUPJ5bu",
        "outputId": "f4c57558-eb04-443b-b28b-949b0cdd10f5"
      },
      "outputs": [
        {
          "output_type": "execute_result",
          "data": {
            "text/plain": [
              "      Employee ID              Department                   Job Role  Gender  \\\n",
              "0               1                   Sales            Sales Executive  Female   \n",
              "1               2  Research & Development         Research Scientist    Male   \n",
              "2               4  Research & Development      Laboratory Technician    Male   \n",
              "3               5  Research & Development         Research Scientist  Female   \n",
              "4               7  Research & Development      Laboratory Technician    Male   \n",
              "...           ...                     ...                        ...     ...   \n",
              "1465         2061  Research & Development      Laboratory Technician    Male   \n",
              "1466         2062  Research & Development  Healthcare Representative    Male   \n",
              "1467         2064  Research & Development     Manufacturing Director    Male   \n",
              "1468         2065                   Sales            Sales Executive    Male   \n",
              "1469         2068  Research & Development      Laboratory Technician    Male   \n",
              "\n",
              "      Age Marital Status      Education Education Field    Business Travel  \\\n",
              "0      41         Single        College   Life Sciences      Travel_Rarely   \n",
              "1      49        Married  Below College   Life Sciences  Travel_Frequently   \n",
              "2      37         Single        College           Other      Travel_Rarely   \n",
              "3      33        Married         Master   Life Sciences  Travel_Frequently   \n",
              "4      27        Married  Below College         Medical      Travel_Rarely   \n",
              "...   ...            ...            ...             ...                ...   \n",
              "1465   36        Married        College         Medical  Travel_Frequently   \n",
              "1466   39        Married  Below College         Medical      Travel_Rarely   \n",
              "1467   27        Married       Bachelor   Life Sciences      Travel_Rarely   \n",
              "1468   49        Married       Bachelor         Medical  Travel_Frequently   \n",
              "1469   34        Married       Bachelor         Medical      Travel_Rarely   \n",
              "\n",
              "      Distance From Home (kms)  ... Total Working Years  Years At Company  \\\n",
              "0                            1  ...                   8                 6   \n",
              "1                            8  ...                  10                10   \n",
              "2                            2  ...                   7                 0   \n",
              "3                            3  ...                   8                 8   \n",
              "4                            2  ...                   6                 2   \n",
              "...                        ...  ...                 ...               ...   \n",
              "1465                        23  ...                  17                 5   \n",
              "1466                         6  ...                   9                 7   \n",
              "1467                         4  ...                   6                 6   \n",
              "1468                         2  ...                  17                 9   \n",
              "1469                         8  ...                   6                 4   \n",
              "\n",
              "     Years In Current Role  Years Since Last Promotion  \\\n",
              "0                        4                           0   \n",
              "1                        7                           1   \n",
              "2                        0                           0   \n",
              "3                        7                           3   \n",
              "4                        2                           2   \n",
              "...                    ...                         ...   \n",
              "1465                     2                           0   \n",
              "1466                     7                           1   \n",
              "1467                     2                           0   \n",
              "1468                     6                           0   \n",
              "1469                     3                           1   \n",
              "\n",
              "      Years With Curr Manager  Environment Satisfaction  \\\n",
              "0                           5                    Medium   \n",
              "1                           7                      High   \n",
              "2                           0                       Low   \n",
              "3                           0                 Very High   \n",
              "4                           2                       Low   \n",
              "...                       ...                       ...   \n",
              "1465                        3                      High   \n",
              "1466                        7                 Very High   \n",
              "1467                        3                    Medium   \n",
              "1468                        8                 Very High   \n",
              "1469                        2                    Medium   \n",
              "\n",
              "     Training Times Last Year  Work Life Balance  Relationship Satisfaction  \\\n",
              "0                           0                Bad                        Low   \n",
              "1                           3             Better                  Very High   \n",
              "2                           3                Bad                     Medium   \n",
              "3                           3             Better                       High   \n",
              "4                           3             Better                  Very High   \n",
              "...                       ...                ...                        ...   \n",
              "1465                        3             Better                       High   \n",
              "1466                        5             Better                        Low   \n",
              "1467                        0             Better                     Medium   \n",
              "1468                        3               Good                  Very High   \n",
              "1469                        3               Best                        Low   \n",
              "\n",
              "      Attrition (Yes/No)  \n",
              "0                    Yes  \n",
              "1                     No  \n",
              "2                    Yes  \n",
              "3                     No  \n",
              "4                     No  \n",
              "...                  ...  \n",
              "1465                  No  \n",
              "1466                  No  \n",
              "1467                  No  \n",
              "1468                  No  \n",
              "1469                  No  \n",
              "\n",
              "[1470 rows x 28 columns]"
            ],
            "text/html": [
              "\n",
              "  <div id=\"df-7fa19920-363c-4e48-8c24-ea8f6597884c\">\n",
              "    <div class=\"colab-df-container\">\n",
              "      <div>\n",
              "<style scoped>\n",
              "    .dataframe tbody tr th:only-of-type {\n",
              "        vertical-align: middle;\n",
              "    }\n",
              "\n",
              "    .dataframe tbody tr th {\n",
              "        vertical-align: top;\n",
              "    }\n",
              "\n",
              "    .dataframe thead th {\n",
              "        text-align: right;\n",
              "    }\n",
              "</style>\n",
              "<table border=\"1\" class=\"dataframe\">\n",
              "  <thead>\n",
              "    <tr style=\"text-align: right;\">\n",
              "      <th></th>\n",
              "      <th>Employee ID</th>\n",
              "      <th>Department</th>\n",
              "      <th>Job Role</th>\n",
              "      <th>Gender</th>\n",
              "      <th>Age</th>\n",
              "      <th>Marital Status</th>\n",
              "      <th>Education</th>\n",
              "      <th>Education Field</th>\n",
              "      <th>Business Travel</th>\n",
              "      <th>Distance From Home (kms)</th>\n",
              "      <th>...</th>\n",
              "      <th>Total Working Years</th>\n",
              "      <th>Years At Company</th>\n",
              "      <th>Years In Current Role</th>\n",
              "      <th>Years Since Last Promotion</th>\n",
              "      <th>Years With Curr Manager</th>\n",
              "      <th>Environment Satisfaction</th>\n",
              "      <th>Training Times Last Year</th>\n",
              "      <th>Work Life Balance</th>\n",
              "      <th>Relationship Satisfaction</th>\n",
              "      <th>Attrition (Yes/No)</th>\n",
              "    </tr>\n",
              "  </thead>\n",
              "  <tbody>\n",
              "    <tr>\n",
              "      <th>0</th>\n",
              "      <td>1</td>\n",
              "      <td>Sales</td>\n",
              "      <td>Sales Executive</td>\n",
              "      <td>Female</td>\n",
              "      <td>41</td>\n",
              "      <td>Single</td>\n",
              "      <td>College</td>\n",
              "      <td>Life Sciences</td>\n",
              "      <td>Travel_Rarely</td>\n",
              "      <td>1</td>\n",
              "      <td>...</td>\n",
              "      <td>8</td>\n",
              "      <td>6</td>\n",
              "      <td>4</td>\n",
              "      <td>0</td>\n",
              "      <td>5</td>\n",
              "      <td>Medium</td>\n",
              "      <td>0</td>\n",
              "      <td>Bad</td>\n",
              "      <td>Low</td>\n",
              "      <td>Yes</td>\n",
              "    </tr>\n",
              "    <tr>\n",
              "      <th>1</th>\n",
              "      <td>2</td>\n",
              "      <td>Research &amp; Development</td>\n",
              "      <td>Research Scientist</td>\n",
              "      <td>Male</td>\n",
              "      <td>49</td>\n",
              "      <td>Married</td>\n",
              "      <td>Below College</td>\n",
              "      <td>Life Sciences</td>\n",
              "      <td>Travel_Frequently</td>\n",
              "      <td>8</td>\n",
              "      <td>...</td>\n",
              "      <td>10</td>\n",
              "      <td>10</td>\n",
              "      <td>7</td>\n",
              "      <td>1</td>\n",
              "      <td>7</td>\n",
              "      <td>High</td>\n",
              "      <td>3</td>\n",
              "      <td>Better</td>\n",
              "      <td>Very High</td>\n",
              "      <td>No</td>\n",
              "    </tr>\n",
              "    <tr>\n",
              "      <th>2</th>\n",
              "      <td>4</td>\n",
              "      <td>Research &amp; Development</td>\n",
              "      <td>Laboratory Technician</td>\n",
              "      <td>Male</td>\n",
              "      <td>37</td>\n",
              "      <td>Single</td>\n",
              "      <td>College</td>\n",
              "      <td>Other</td>\n",
              "      <td>Travel_Rarely</td>\n",
              "      <td>2</td>\n",
              "      <td>...</td>\n",
              "      <td>7</td>\n",
              "      <td>0</td>\n",
              "      <td>0</td>\n",
              "      <td>0</td>\n",
              "      <td>0</td>\n",
              "      <td>Low</td>\n",
              "      <td>3</td>\n",
              "      <td>Bad</td>\n",
              "      <td>Medium</td>\n",
              "      <td>Yes</td>\n",
              "    </tr>\n",
              "    <tr>\n",
              "      <th>3</th>\n",
              "      <td>5</td>\n",
              "      <td>Research &amp; Development</td>\n",
              "      <td>Research Scientist</td>\n",
              "      <td>Female</td>\n",
              "      <td>33</td>\n",
              "      <td>Married</td>\n",
              "      <td>Master</td>\n",
              "      <td>Life Sciences</td>\n",
              "      <td>Travel_Frequently</td>\n",
              "      <td>3</td>\n",
              "      <td>...</td>\n",
              "      <td>8</td>\n",
              "      <td>8</td>\n",
              "      <td>7</td>\n",
              "      <td>3</td>\n",
              "      <td>0</td>\n",
              "      <td>Very High</td>\n",
              "      <td>3</td>\n",
              "      <td>Better</td>\n",
              "      <td>High</td>\n",
              "      <td>No</td>\n",
              "    </tr>\n",
              "    <tr>\n",
              "      <th>4</th>\n",
              "      <td>7</td>\n",
              "      <td>Research &amp; Development</td>\n",
              "      <td>Laboratory Technician</td>\n",
              "      <td>Male</td>\n",
              "      <td>27</td>\n",
              "      <td>Married</td>\n",
              "      <td>Below College</td>\n",
              "      <td>Medical</td>\n",
              "      <td>Travel_Rarely</td>\n",
              "      <td>2</td>\n",
              "      <td>...</td>\n",
              "      <td>6</td>\n",
              "      <td>2</td>\n",
              "      <td>2</td>\n",
              "      <td>2</td>\n",
              "      <td>2</td>\n",
              "      <td>Low</td>\n",
              "      <td>3</td>\n",
              "      <td>Better</td>\n",
              "      <td>Very High</td>\n",
              "      <td>No</td>\n",
              "    </tr>\n",
              "    <tr>\n",
              "      <th>...</th>\n",
              "      <td>...</td>\n",
              "      <td>...</td>\n",
              "      <td>...</td>\n",
              "      <td>...</td>\n",
              "      <td>...</td>\n",
              "      <td>...</td>\n",
              "      <td>...</td>\n",
              "      <td>...</td>\n",
              "      <td>...</td>\n",
              "      <td>...</td>\n",
              "      <td>...</td>\n",
              "      <td>...</td>\n",
              "      <td>...</td>\n",
              "      <td>...</td>\n",
              "      <td>...</td>\n",
              "      <td>...</td>\n",
              "      <td>...</td>\n",
              "      <td>...</td>\n",
              "      <td>...</td>\n",
              "      <td>...</td>\n",
              "      <td>...</td>\n",
              "    </tr>\n",
              "    <tr>\n",
              "      <th>1465</th>\n",
              "      <td>2061</td>\n",
              "      <td>Research &amp; Development</td>\n",
              "      <td>Laboratory Technician</td>\n",
              "      <td>Male</td>\n",
              "      <td>36</td>\n",
              "      <td>Married</td>\n",
              "      <td>College</td>\n",
              "      <td>Medical</td>\n",
              "      <td>Travel_Frequently</td>\n",
              "      <td>23</td>\n",
              "      <td>...</td>\n",
              "      <td>17</td>\n",
              "      <td>5</td>\n",
              "      <td>2</td>\n",
              "      <td>0</td>\n",
              "      <td>3</td>\n",
              "      <td>High</td>\n",
              "      <td>3</td>\n",
              "      <td>Better</td>\n",
              "      <td>High</td>\n",
              "      <td>No</td>\n",
              "    </tr>\n",
              "    <tr>\n",
              "      <th>1466</th>\n",
              "      <td>2062</td>\n",
              "      <td>Research &amp; Development</td>\n",
              "      <td>Healthcare Representative</td>\n",
              "      <td>Male</td>\n",
              "      <td>39</td>\n",
              "      <td>Married</td>\n",
              "      <td>Below College</td>\n",
              "      <td>Medical</td>\n",
              "      <td>Travel_Rarely</td>\n",
              "      <td>6</td>\n",
              "      <td>...</td>\n",
              "      <td>9</td>\n",
              "      <td>7</td>\n",
              "      <td>7</td>\n",
              "      <td>1</td>\n",
              "      <td>7</td>\n",
              "      <td>Very High</td>\n",
              "      <td>5</td>\n",
              "      <td>Better</td>\n",
              "      <td>Low</td>\n",
              "      <td>No</td>\n",
              "    </tr>\n",
              "    <tr>\n",
              "      <th>1467</th>\n",
              "      <td>2064</td>\n",
              "      <td>Research &amp; Development</td>\n",
              "      <td>Manufacturing Director</td>\n",
              "      <td>Male</td>\n",
              "      <td>27</td>\n",
              "      <td>Married</td>\n",
              "      <td>Bachelor</td>\n",
              "      <td>Life Sciences</td>\n",
              "      <td>Travel_Rarely</td>\n",
              "      <td>4</td>\n",
              "      <td>...</td>\n",
              "      <td>6</td>\n",
              "      <td>6</td>\n",
              "      <td>2</td>\n",
              "      <td>0</td>\n",
              "      <td>3</td>\n",
              "      <td>Medium</td>\n",
              "      <td>0</td>\n",
              "      <td>Better</td>\n",
              "      <td>Medium</td>\n",
              "      <td>No</td>\n",
              "    </tr>\n",
              "    <tr>\n",
              "      <th>1468</th>\n",
              "      <td>2065</td>\n",
              "      <td>Sales</td>\n",
              "      <td>Sales Executive</td>\n",
              "      <td>Male</td>\n",
              "      <td>49</td>\n",
              "      <td>Married</td>\n",
              "      <td>Bachelor</td>\n",
              "      <td>Medical</td>\n",
              "      <td>Travel_Frequently</td>\n",
              "      <td>2</td>\n",
              "      <td>...</td>\n",
              "      <td>17</td>\n",
              "      <td>9</td>\n",
              "      <td>6</td>\n",
              "      <td>0</td>\n",
              "      <td>8</td>\n",
              "      <td>Very High</td>\n",
              "      <td>3</td>\n",
              "      <td>Good</td>\n",
              "      <td>Very High</td>\n",
              "      <td>No</td>\n",
              "    </tr>\n",
              "    <tr>\n",
              "      <th>1469</th>\n",
              "      <td>2068</td>\n",
              "      <td>Research &amp; Development</td>\n",
              "      <td>Laboratory Technician</td>\n",
              "      <td>Male</td>\n",
              "      <td>34</td>\n",
              "      <td>Married</td>\n",
              "      <td>Bachelor</td>\n",
              "      <td>Medical</td>\n",
              "      <td>Travel_Rarely</td>\n",
              "      <td>8</td>\n",
              "      <td>...</td>\n",
              "      <td>6</td>\n",
              "      <td>4</td>\n",
              "      <td>3</td>\n",
              "      <td>1</td>\n",
              "      <td>2</td>\n",
              "      <td>Medium</td>\n",
              "      <td>3</td>\n",
              "      <td>Best</td>\n",
              "      <td>Low</td>\n",
              "      <td>No</td>\n",
              "    </tr>\n",
              "  </tbody>\n",
              "</table>\n",
              "<p>1470 rows × 28 columns</p>\n",
              "</div>\n",
              "      <button class=\"colab-df-convert\" onclick=\"convertToInteractive('df-7fa19920-363c-4e48-8c24-ea8f6597884c')\"\n",
              "              title=\"Convert this dataframe to an interactive table.\"\n",
              "              style=\"display:none;\">\n",
              "        \n",
              "  <svg xmlns=\"http://www.w3.org/2000/svg\" height=\"24px\"viewBox=\"0 0 24 24\"\n",
              "       width=\"24px\">\n",
              "    <path d=\"M0 0h24v24H0V0z\" fill=\"none\"/>\n",
              "    <path d=\"M18.56 5.44l.94 2.06.94-2.06 2.06-.94-2.06-.94-.94-2.06-.94 2.06-2.06.94zm-11 1L8.5 8.5l.94-2.06 2.06-.94-2.06-.94L8.5 2.5l-.94 2.06-2.06.94zm10 10l.94 2.06.94-2.06 2.06-.94-2.06-.94-.94-2.06-.94 2.06-2.06.94z\"/><path d=\"M17.41 7.96l-1.37-1.37c-.4-.4-.92-.59-1.43-.59-.52 0-1.04.2-1.43.59L10.3 9.45l-7.72 7.72c-.78.78-.78 2.05 0 2.83L4 21.41c.39.39.9.59 1.41.59.51 0 1.02-.2 1.41-.59l7.78-7.78 2.81-2.81c.8-.78.8-2.07 0-2.86zM5.41 20L4 18.59l7.72-7.72 1.47 1.35L5.41 20z\"/>\n",
              "  </svg>\n",
              "      </button>\n",
              "      \n",
              "  <style>\n",
              "    .colab-df-container {\n",
              "      display:flex;\n",
              "      flex-wrap:wrap;\n",
              "      gap: 12px;\n",
              "    }\n",
              "\n",
              "    .colab-df-convert {\n",
              "      background-color: #E8F0FE;\n",
              "      border: none;\n",
              "      border-radius: 50%;\n",
              "      cursor: pointer;\n",
              "      display: none;\n",
              "      fill: #1967D2;\n",
              "      height: 32px;\n",
              "      padding: 0 0 0 0;\n",
              "      width: 32px;\n",
              "    }\n",
              "\n",
              "    .colab-df-convert:hover {\n",
              "      background-color: #E2EBFA;\n",
              "      box-shadow: 0px 1px 2px rgba(60, 64, 67, 0.3), 0px 1px 3px 1px rgba(60, 64, 67, 0.15);\n",
              "      fill: #174EA6;\n",
              "    }\n",
              "\n",
              "    [theme=dark] .colab-df-convert {\n",
              "      background-color: #3B4455;\n",
              "      fill: #D2E3FC;\n",
              "    }\n",
              "\n",
              "    [theme=dark] .colab-df-convert:hover {\n",
              "      background-color: #434B5C;\n",
              "      box-shadow: 0px 1px 3px 1px rgba(0, 0, 0, 0.15);\n",
              "      filter: drop-shadow(0px 1px 2px rgba(0, 0, 0, 0.3));\n",
              "      fill: #FFFFFF;\n",
              "    }\n",
              "  </style>\n",
              "\n",
              "      <script>\n",
              "        const buttonEl =\n",
              "          document.querySelector('#df-7fa19920-363c-4e48-8c24-ea8f6597884c button.colab-df-convert');\n",
              "        buttonEl.style.display =\n",
              "          google.colab.kernel.accessAllowed ? 'block' : 'none';\n",
              "\n",
              "        async function convertToInteractive(key) {\n",
              "          const element = document.querySelector('#df-7fa19920-363c-4e48-8c24-ea8f6597884c');\n",
              "          const dataTable =\n",
              "            await google.colab.kernel.invokeFunction('convertToInteractive',\n",
              "                                                     [key], {});\n",
              "          if (!dataTable) return;\n",
              "\n",
              "          const docLinkHtml = 'Like what you see? Visit the ' +\n",
              "            '<a target=\"_blank\" href=https://colab.research.google.com/notebooks/data_table.ipynb>data table notebook</a>'\n",
              "            + ' to learn more about interactive tables.';\n",
              "          element.innerHTML = '';\n",
              "          dataTable['output_type'] = 'display_data';\n",
              "          await google.colab.output.renderOutput(dataTable, element);\n",
              "          const docLink = document.createElement('div');\n",
              "          docLink.innerHTML = docLinkHtml;\n",
              "          element.appendChild(docLink);\n",
              "        }\n",
              "      </script>\n",
              "    </div>\n",
              "  </div>\n",
              "  "
            ]
          },
          "metadata": {},
          "execution_count": 15
        }
      ],
      "source": [
        "df = df.drop(['Employee Count'], axis=1)\n",
        "df"
      ]
    },
    {
      "cell_type": "code",
      "execution_count": null,
      "metadata": {
        "colab": {
          "base_uri": "https://localhost:8080/"
        },
        "id": "NKijtUhcKmWv",
        "outputId": "a3e17c60-eb64-4ab1-d95c-b1634e16a4ff"
      },
      "outputs": [
        {
          "output_type": "stream",
          "name": "stdout",
          "text": [
            "Employee ID                    int64\n",
            "Department                    object\n",
            "Job Role                      object\n",
            "Gender                        object\n",
            "Age                            int64\n",
            "Marital Status                object\n",
            "Education                     object\n",
            "Education Field               object\n",
            "Business Travel               object\n",
            "Distance From Home (kms)       int64\n",
            "Job Involvement               object\n",
            "Job Level                      int64\n",
            "Job Satisfaction              object\n",
            "Monthly Income (USD)           int64\n",
            "Salary Hike (%)                int64\n",
            "Stock Option Level             int64\n",
            "Over Time                     object\n",
            "No. of Companies Worked        int64\n",
            "Total Working Years            int64\n",
            "Years At Company               int64\n",
            "Years In Current Role          int64\n",
            "Years Since Last Promotion     int64\n",
            "Years With Curr Manager        int64\n",
            "Environment Satisfaction      object\n",
            "Training Times Last Year       int64\n",
            "Work Life Balance             object\n",
            "Relationship Satisfaction     object\n",
            "Attrition (Yes/No)            object\n",
            "dtype: object\n"
          ]
        }
      ],
      "source": [
        "print(df.dtypes) #To get datatype of each column"
      ]
    },
    {
      "cell_type": "code",
      "execution_count": null,
      "metadata": {
        "colab": {
          "base_uri": "https://localhost:8080/",
          "height": 206
        },
        "id": "Rh4vL9LOMw6G",
        "outputId": "35c8904f-7388-45f9-c6dd-b5de4ad43621"
      },
      "outputs": [
        {
          "output_type": "execute_result",
          "data": {
            "text/plain": [
              "   No  Yes\n",
              "0   0    1\n",
              "1   1    0\n",
              "2   0    1\n",
              "3   1    0\n",
              "4   1    0"
            ],
            "text/html": [
              "\n",
              "  <div id=\"df-01aed796-9f6d-4193-a061-8ef6e7c3f819\">\n",
              "    <div class=\"colab-df-container\">\n",
              "      <div>\n",
              "<style scoped>\n",
              "    .dataframe tbody tr th:only-of-type {\n",
              "        vertical-align: middle;\n",
              "    }\n",
              "\n",
              "    .dataframe tbody tr th {\n",
              "        vertical-align: top;\n",
              "    }\n",
              "\n",
              "    .dataframe thead th {\n",
              "        text-align: right;\n",
              "    }\n",
              "</style>\n",
              "<table border=\"1\" class=\"dataframe\">\n",
              "  <thead>\n",
              "    <tr style=\"text-align: right;\">\n",
              "      <th></th>\n",
              "      <th>No</th>\n",
              "      <th>Yes</th>\n",
              "    </tr>\n",
              "  </thead>\n",
              "  <tbody>\n",
              "    <tr>\n",
              "      <th>0</th>\n",
              "      <td>0</td>\n",
              "      <td>1</td>\n",
              "    </tr>\n",
              "    <tr>\n",
              "      <th>1</th>\n",
              "      <td>1</td>\n",
              "      <td>0</td>\n",
              "    </tr>\n",
              "    <tr>\n",
              "      <th>2</th>\n",
              "      <td>0</td>\n",
              "      <td>1</td>\n",
              "    </tr>\n",
              "    <tr>\n",
              "      <th>3</th>\n",
              "      <td>1</td>\n",
              "      <td>0</td>\n",
              "    </tr>\n",
              "    <tr>\n",
              "      <th>4</th>\n",
              "      <td>1</td>\n",
              "      <td>0</td>\n",
              "    </tr>\n",
              "  </tbody>\n",
              "</table>\n",
              "</div>\n",
              "      <button class=\"colab-df-convert\" onclick=\"convertToInteractive('df-01aed796-9f6d-4193-a061-8ef6e7c3f819')\"\n",
              "              title=\"Convert this dataframe to an interactive table.\"\n",
              "              style=\"display:none;\">\n",
              "        \n",
              "  <svg xmlns=\"http://www.w3.org/2000/svg\" height=\"24px\"viewBox=\"0 0 24 24\"\n",
              "       width=\"24px\">\n",
              "    <path d=\"M0 0h24v24H0V0z\" fill=\"none\"/>\n",
              "    <path d=\"M18.56 5.44l.94 2.06.94-2.06 2.06-.94-2.06-.94-.94-2.06-.94 2.06-2.06.94zm-11 1L8.5 8.5l.94-2.06 2.06-.94-2.06-.94L8.5 2.5l-.94 2.06-2.06.94zm10 10l.94 2.06.94-2.06 2.06-.94-2.06-.94-.94-2.06-.94 2.06-2.06.94z\"/><path d=\"M17.41 7.96l-1.37-1.37c-.4-.4-.92-.59-1.43-.59-.52 0-1.04.2-1.43.59L10.3 9.45l-7.72 7.72c-.78.78-.78 2.05 0 2.83L4 21.41c.39.39.9.59 1.41.59.51 0 1.02-.2 1.41-.59l7.78-7.78 2.81-2.81c.8-.78.8-2.07 0-2.86zM5.41 20L4 18.59l7.72-7.72 1.47 1.35L5.41 20z\"/>\n",
              "  </svg>\n",
              "      </button>\n",
              "      \n",
              "  <style>\n",
              "    .colab-df-container {\n",
              "      display:flex;\n",
              "      flex-wrap:wrap;\n",
              "      gap: 12px;\n",
              "    }\n",
              "\n",
              "    .colab-df-convert {\n",
              "      background-color: #E8F0FE;\n",
              "      border: none;\n",
              "      border-radius: 50%;\n",
              "      cursor: pointer;\n",
              "      display: none;\n",
              "      fill: #1967D2;\n",
              "      height: 32px;\n",
              "      padding: 0 0 0 0;\n",
              "      width: 32px;\n",
              "    }\n",
              "\n",
              "    .colab-df-convert:hover {\n",
              "      background-color: #E2EBFA;\n",
              "      box-shadow: 0px 1px 2px rgba(60, 64, 67, 0.3), 0px 1px 3px 1px rgba(60, 64, 67, 0.15);\n",
              "      fill: #174EA6;\n",
              "    }\n",
              "\n",
              "    [theme=dark] .colab-df-convert {\n",
              "      background-color: #3B4455;\n",
              "      fill: #D2E3FC;\n",
              "    }\n",
              "\n",
              "    [theme=dark] .colab-df-convert:hover {\n",
              "      background-color: #434B5C;\n",
              "      box-shadow: 0px 1px 3px 1px rgba(0, 0, 0, 0.15);\n",
              "      filter: drop-shadow(0px 1px 2px rgba(0, 0, 0, 0.3));\n",
              "      fill: #FFFFFF;\n",
              "    }\n",
              "  </style>\n",
              "\n",
              "      <script>\n",
              "        const buttonEl =\n",
              "          document.querySelector('#df-01aed796-9f6d-4193-a061-8ef6e7c3f819 button.colab-df-convert');\n",
              "        buttonEl.style.display =\n",
              "          google.colab.kernel.accessAllowed ? 'block' : 'none';\n",
              "\n",
              "        async function convertToInteractive(key) {\n",
              "          const element = document.querySelector('#df-01aed796-9f6d-4193-a061-8ef6e7c3f819');\n",
              "          const dataTable =\n",
              "            await google.colab.kernel.invokeFunction('convertToInteractive',\n",
              "                                                     [key], {});\n",
              "          if (!dataTable) return;\n",
              "\n",
              "          const docLinkHtml = 'Like what you see? Visit the ' +\n",
              "            '<a target=\"_blank\" href=https://colab.research.google.com/notebooks/data_table.ipynb>data table notebook</a>'\n",
              "            + ' to learn more about interactive tables.';\n",
              "          element.innerHTML = '';\n",
              "          dataTable['output_type'] = 'display_data';\n",
              "          await google.colab.output.renderOutput(dataTable, element);\n",
              "          const docLink = document.createElement('div');\n",
              "          docLink.innerHTML = docLinkHtml;\n",
              "          element.appendChild(docLink);\n",
              "        }\n",
              "      </script>\n",
              "    </div>\n",
              "  </div>\n",
              "  "
            ]
          },
          "metadata": {},
          "execution_count": 17
        }
      ],
      "source": [
        "#Dummies for attrition data to get them into integer value\n",
        "attrition_dummies = pd.get_dummies(df['Attrition (Yes/No)'])\n",
        "attrition_dummies.head()"
      ]
    },
    {
      "cell_type": "code",
      "execution_count": null,
      "metadata": {
        "colab": {
          "base_uri": "https://localhost:8080/",
          "height": 438
        },
        "id": "cfVkJ20IOVBF",
        "outputId": "db841020-181f-48f2-cc40-b90cd37f4819",
        "scrolled": true
      },
      "outputs": [
        {
          "output_type": "execute_result",
          "data": {
            "text/plain": [
              "   Employee ID              Department               Job Role  Gender  Age  \\\n",
              "0            1                   Sales        Sales Executive  Female   41   \n",
              "1            2  Research & Development     Research Scientist    Male   49   \n",
              "2            4  Research & Development  Laboratory Technician    Male   37   \n",
              "3            5  Research & Development     Research Scientist  Female   33   \n",
              "4            7  Research & Development  Laboratory Technician    Male   27   \n",
              "\n",
              "  Marital Status      Education Education Field    Business Travel  \\\n",
              "0         Single        College   Life Sciences      Travel_Rarely   \n",
              "1        Married  Below College   Life Sciences  Travel_Frequently   \n",
              "2         Single        College           Other      Travel_Rarely   \n",
              "3        Married         Master   Life Sciences  Travel_Frequently   \n",
              "4        Married  Below College         Medical      Travel_Rarely   \n",
              "\n",
              "   Distance From Home (kms)  ... Years In Current Role  \\\n",
              "0                         1  ...                     4   \n",
              "1                         8  ...                     7   \n",
              "2                         2  ...                     0   \n",
              "3                         3  ...                     7   \n",
              "4                         2  ...                     2   \n",
              "\n",
              "   Years Since Last Promotion Years With Curr Manager  \\\n",
              "0                           0                       5   \n",
              "1                           1                       7   \n",
              "2                           0                       0   \n",
              "3                           3                       0   \n",
              "4                           2                       2   \n",
              "\n",
              "   Environment Satisfaction  Training Times Last Year  Work Life Balance  \\\n",
              "0                    Medium                         0                Bad   \n",
              "1                      High                         3             Better   \n",
              "2                       Low                         3                Bad   \n",
              "3                 Very High                         3             Better   \n",
              "4                       Low                         3             Better   \n",
              "\n",
              "  Relationship Satisfaction  Attrition (Yes/No)  No  Yes  \n",
              "0                       Low                 Yes   0    1  \n",
              "1                 Very High                  No   1    0  \n",
              "2                    Medium                 Yes   0    1  \n",
              "3                      High                  No   1    0  \n",
              "4                 Very High                  No   1    0  \n",
              "\n",
              "[5 rows x 30 columns]"
            ],
            "text/html": [
              "\n",
              "  <div id=\"df-11a70ed9-521c-4cdc-b1d9-44614e48e3c2\">\n",
              "    <div class=\"colab-df-container\">\n",
              "      <div>\n",
              "<style scoped>\n",
              "    .dataframe tbody tr th:only-of-type {\n",
              "        vertical-align: middle;\n",
              "    }\n",
              "\n",
              "    .dataframe tbody tr th {\n",
              "        vertical-align: top;\n",
              "    }\n",
              "\n",
              "    .dataframe thead th {\n",
              "        text-align: right;\n",
              "    }\n",
              "</style>\n",
              "<table border=\"1\" class=\"dataframe\">\n",
              "  <thead>\n",
              "    <tr style=\"text-align: right;\">\n",
              "      <th></th>\n",
              "      <th>Employee ID</th>\n",
              "      <th>Department</th>\n",
              "      <th>Job Role</th>\n",
              "      <th>Gender</th>\n",
              "      <th>Age</th>\n",
              "      <th>Marital Status</th>\n",
              "      <th>Education</th>\n",
              "      <th>Education Field</th>\n",
              "      <th>Business Travel</th>\n",
              "      <th>Distance From Home (kms)</th>\n",
              "      <th>...</th>\n",
              "      <th>Years In Current Role</th>\n",
              "      <th>Years Since Last Promotion</th>\n",
              "      <th>Years With Curr Manager</th>\n",
              "      <th>Environment Satisfaction</th>\n",
              "      <th>Training Times Last Year</th>\n",
              "      <th>Work Life Balance</th>\n",
              "      <th>Relationship Satisfaction</th>\n",
              "      <th>Attrition (Yes/No)</th>\n",
              "      <th>No</th>\n",
              "      <th>Yes</th>\n",
              "    </tr>\n",
              "  </thead>\n",
              "  <tbody>\n",
              "    <tr>\n",
              "      <th>0</th>\n",
              "      <td>1</td>\n",
              "      <td>Sales</td>\n",
              "      <td>Sales Executive</td>\n",
              "      <td>Female</td>\n",
              "      <td>41</td>\n",
              "      <td>Single</td>\n",
              "      <td>College</td>\n",
              "      <td>Life Sciences</td>\n",
              "      <td>Travel_Rarely</td>\n",
              "      <td>1</td>\n",
              "      <td>...</td>\n",
              "      <td>4</td>\n",
              "      <td>0</td>\n",
              "      <td>5</td>\n",
              "      <td>Medium</td>\n",
              "      <td>0</td>\n",
              "      <td>Bad</td>\n",
              "      <td>Low</td>\n",
              "      <td>Yes</td>\n",
              "      <td>0</td>\n",
              "      <td>1</td>\n",
              "    </tr>\n",
              "    <tr>\n",
              "      <th>1</th>\n",
              "      <td>2</td>\n",
              "      <td>Research &amp; Development</td>\n",
              "      <td>Research Scientist</td>\n",
              "      <td>Male</td>\n",
              "      <td>49</td>\n",
              "      <td>Married</td>\n",
              "      <td>Below College</td>\n",
              "      <td>Life Sciences</td>\n",
              "      <td>Travel_Frequently</td>\n",
              "      <td>8</td>\n",
              "      <td>...</td>\n",
              "      <td>7</td>\n",
              "      <td>1</td>\n",
              "      <td>7</td>\n",
              "      <td>High</td>\n",
              "      <td>3</td>\n",
              "      <td>Better</td>\n",
              "      <td>Very High</td>\n",
              "      <td>No</td>\n",
              "      <td>1</td>\n",
              "      <td>0</td>\n",
              "    </tr>\n",
              "    <tr>\n",
              "      <th>2</th>\n",
              "      <td>4</td>\n",
              "      <td>Research &amp; Development</td>\n",
              "      <td>Laboratory Technician</td>\n",
              "      <td>Male</td>\n",
              "      <td>37</td>\n",
              "      <td>Single</td>\n",
              "      <td>College</td>\n",
              "      <td>Other</td>\n",
              "      <td>Travel_Rarely</td>\n",
              "      <td>2</td>\n",
              "      <td>...</td>\n",
              "      <td>0</td>\n",
              "      <td>0</td>\n",
              "      <td>0</td>\n",
              "      <td>Low</td>\n",
              "      <td>3</td>\n",
              "      <td>Bad</td>\n",
              "      <td>Medium</td>\n",
              "      <td>Yes</td>\n",
              "      <td>0</td>\n",
              "      <td>1</td>\n",
              "    </tr>\n",
              "    <tr>\n",
              "      <th>3</th>\n",
              "      <td>5</td>\n",
              "      <td>Research &amp; Development</td>\n",
              "      <td>Research Scientist</td>\n",
              "      <td>Female</td>\n",
              "      <td>33</td>\n",
              "      <td>Married</td>\n",
              "      <td>Master</td>\n",
              "      <td>Life Sciences</td>\n",
              "      <td>Travel_Frequently</td>\n",
              "      <td>3</td>\n",
              "      <td>...</td>\n",
              "      <td>7</td>\n",
              "      <td>3</td>\n",
              "      <td>0</td>\n",
              "      <td>Very High</td>\n",
              "      <td>3</td>\n",
              "      <td>Better</td>\n",
              "      <td>High</td>\n",
              "      <td>No</td>\n",
              "      <td>1</td>\n",
              "      <td>0</td>\n",
              "    </tr>\n",
              "    <tr>\n",
              "      <th>4</th>\n",
              "      <td>7</td>\n",
              "      <td>Research &amp; Development</td>\n",
              "      <td>Laboratory Technician</td>\n",
              "      <td>Male</td>\n",
              "      <td>27</td>\n",
              "      <td>Married</td>\n",
              "      <td>Below College</td>\n",
              "      <td>Medical</td>\n",
              "      <td>Travel_Rarely</td>\n",
              "      <td>2</td>\n",
              "      <td>...</td>\n",
              "      <td>2</td>\n",
              "      <td>2</td>\n",
              "      <td>2</td>\n",
              "      <td>Low</td>\n",
              "      <td>3</td>\n",
              "      <td>Better</td>\n",
              "      <td>Very High</td>\n",
              "      <td>No</td>\n",
              "      <td>1</td>\n",
              "      <td>0</td>\n",
              "    </tr>\n",
              "  </tbody>\n",
              "</table>\n",
              "<p>5 rows × 30 columns</p>\n",
              "</div>\n",
              "      <button class=\"colab-df-convert\" onclick=\"convertToInteractive('df-11a70ed9-521c-4cdc-b1d9-44614e48e3c2')\"\n",
              "              title=\"Convert this dataframe to an interactive table.\"\n",
              "              style=\"display:none;\">\n",
              "        \n",
              "  <svg xmlns=\"http://www.w3.org/2000/svg\" height=\"24px\"viewBox=\"0 0 24 24\"\n",
              "       width=\"24px\">\n",
              "    <path d=\"M0 0h24v24H0V0z\" fill=\"none\"/>\n",
              "    <path d=\"M18.56 5.44l.94 2.06.94-2.06 2.06-.94-2.06-.94-.94-2.06-.94 2.06-2.06.94zm-11 1L8.5 8.5l.94-2.06 2.06-.94-2.06-.94L8.5 2.5l-.94 2.06-2.06.94zm10 10l.94 2.06.94-2.06 2.06-.94-2.06-.94-.94-2.06-.94 2.06-2.06.94z\"/><path d=\"M17.41 7.96l-1.37-1.37c-.4-.4-.92-.59-1.43-.59-.52 0-1.04.2-1.43.59L10.3 9.45l-7.72 7.72c-.78.78-.78 2.05 0 2.83L4 21.41c.39.39.9.59 1.41.59.51 0 1.02-.2 1.41-.59l7.78-7.78 2.81-2.81c.8-.78.8-2.07 0-2.86zM5.41 20L4 18.59l7.72-7.72 1.47 1.35L5.41 20z\"/>\n",
              "  </svg>\n",
              "      </button>\n",
              "      \n",
              "  <style>\n",
              "    .colab-df-container {\n",
              "      display:flex;\n",
              "      flex-wrap:wrap;\n",
              "      gap: 12px;\n",
              "    }\n",
              "\n",
              "    .colab-df-convert {\n",
              "      background-color: #E8F0FE;\n",
              "      border: none;\n",
              "      border-radius: 50%;\n",
              "      cursor: pointer;\n",
              "      display: none;\n",
              "      fill: #1967D2;\n",
              "      height: 32px;\n",
              "      padding: 0 0 0 0;\n",
              "      width: 32px;\n",
              "    }\n",
              "\n",
              "    .colab-df-convert:hover {\n",
              "      background-color: #E2EBFA;\n",
              "      box-shadow: 0px 1px 2px rgba(60, 64, 67, 0.3), 0px 1px 3px 1px rgba(60, 64, 67, 0.15);\n",
              "      fill: #174EA6;\n",
              "    }\n",
              "\n",
              "    [theme=dark] .colab-df-convert {\n",
              "      background-color: #3B4455;\n",
              "      fill: #D2E3FC;\n",
              "    }\n",
              "\n",
              "    [theme=dark] .colab-df-convert:hover {\n",
              "      background-color: #434B5C;\n",
              "      box-shadow: 0px 1px 3px 1px rgba(0, 0, 0, 0.15);\n",
              "      filter: drop-shadow(0px 1px 2px rgba(0, 0, 0, 0.3));\n",
              "      fill: #FFFFFF;\n",
              "    }\n",
              "  </style>\n",
              "\n",
              "      <script>\n",
              "        const buttonEl =\n",
              "          document.querySelector('#df-11a70ed9-521c-4cdc-b1d9-44614e48e3c2 button.colab-df-convert');\n",
              "        buttonEl.style.display =\n",
              "          google.colab.kernel.accessAllowed ? 'block' : 'none';\n",
              "\n",
              "        async function convertToInteractive(key) {\n",
              "          const element = document.querySelector('#df-11a70ed9-521c-4cdc-b1d9-44614e48e3c2');\n",
              "          const dataTable =\n",
              "            await google.colab.kernel.invokeFunction('convertToInteractive',\n",
              "                                                     [key], {});\n",
              "          if (!dataTable) return;\n",
              "\n",
              "          const docLinkHtml = 'Like what you see? Visit the ' +\n",
              "            '<a target=\"_blank\" href=https://colab.research.google.com/notebooks/data_table.ipynb>data table notebook</a>'\n",
              "            + ' to learn more about interactive tables.';\n",
              "          element.innerHTML = '';\n",
              "          dataTable['output_type'] = 'display_data';\n",
              "          await google.colab.output.renderOutput(dataTable, element);\n",
              "          const docLink = document.createElement('div');\n",
              "          docLink.innerHTML = docLinkHtml;\n",
              "          element.appendChild(docLink);\n",
              "        }\n",
              "      </script>\n",
              "    </div>\n",
              "  </div>\n",
              "  "
            ]
          },
          "metadata": {},
          "execution_count": 18
        }
      ],
      "source": [
        "#Adding attrition_dummies column into dataset df\n",
        "df = pd.concat([df, attrition_dummies], axis=1)\n",
        "df.head()"
      ]
    },
    {
      "cell_type": "code",
      "execution_count": null,
      "metadata": {
        "colab": {
          "base_uri": "https://localhost:8080/",
          "height": 438
        },
        "id": "X6HNLaOsO041",
        "outputId": "5be6e992-3bd8-4f09-c32e-949907283072"
      },
      "outputs": [
        {
          "output_type": "execute_result",
          "data": {
            "text/plain": [
              "   Employee ID              Department               Job Role  Gender  Age  \\\n",
              "0            1                   Sales        Sales Executive  Female   41   \n",
              "1            2  Research & Development     Research Scientist    Male   49   \n",
              "2            4  Research & Development  Laboratory Technician    Male   37   \n",
              "3            5  Research & Development     Research Scientist  Female   33   \n",
              "4            7  Research & Development  Laboratory Technician    Male   27   \n",
              "\n",
              "  Marital Status      Education Education Field    Business Travel  \\\n",
              "0         Single        College   Life Sciences      Travel_Rarely   \n",
              "1        Married  Below College   Life Sciences  Travel_Frequently   \n",
              "2         Single        College           Other      Travel_Rarely   \n",
              "3        Married         Master   Life Sciences  Travel_Frequently   \n",
              "4        Married  Below College         Medical      Travel_Rarely   \n",
              "\n",
              "   Distance From Home (kms)  ... Total Working Years  Years At Company  \\\n",
              "0                         1  ...                   8                 6   \n",
              "1                         8  ...                  10                10   \n",
              "2                         2  ...                   7                 0   \n",
              "3                         3  ...                   8                 8   \n",
              "4                         2  ...                   6                 2   \n",
              "\n",
              "  Years In Current Role  Years Since Last Promotion  Years With Curr Manager  \\\n",
              "0                     4                           0                        5   \n",
              "1                     7                           1                        7   \n",
              "2                     0                           0                        0   \n",
              "3                     7                           3                        0   \n",
              "4                     2                           2                        2   \n",
              "\n",
              "   Environment Satisfaction Training Times Last Year  Work Life Balance  \\\n",
              "0                    Medium                        0                Bad   \n",
              "1                      High                        3             Better   \n",
              "2                       Low                        3                Bad   \n",
              "3                 Very High                        3             Better   \n",
              "4                       Low                        3             Better   \n",
              "\n",
              "   Relationship Satisfaction  Yes  \n",
              "0                        Low    1  \n",
              "1                  Very High    0  \n",
              "2                     Medium    1  \n",
              "3                       High    0  \n",
              "4                  Very High    0  \n",
              "\n",
              "[5 rows x 28 columns]"
            ],
            "text/html": [
              "\n",
              "  <div id=\"df-c6df4fac-7f02-4cf1-bf25-0c31a8b02b37\">\n",
              "    <div class=\"colab-df-container\">\n",
              "      <div>\n",
              "<style scoped>\n",
              "    .dataframe tbody tr th:only-of-type {\n",
              "        vertical-align: middle;\n",
              "    }\n",
              "\n",
              "    .dataframe tbody tr th {\n",
              "        vertical-align: top;\n",
              "    }\n",
              "\n",
              "    .dataframe thead th {\n",
              "        text-align: right;\n",
              "    }\n",
              "</style>\n",
              "<table border=\"1\" class=\"dataframe\">\n",
              "  <thead>\n",
              "    <tr style=\"text-align: right;\">\n",
              "      <th></th>\n",
              "      <th>Employee ID</th>\n",
              "      <th>Department</th>\n",
              "      <th>Job Role</th>\n",
              "      <th>Gender</th>\n",
              "      <th>Age</th>\n",
              "      <th>Marital Status</th>\n",
              "      <th>Education</th>\n",
              "      <th>Education Field</th>\n",
              "      <th>Business Travel</th>\n",
              "      <th>Distance From Home (kms)</th>\n",
              "      <th>...</th>\n",
              "      <th>Total Working Years</th>\n",
              "      <th>Years At Company</th>\n",
              "      <th>Years In Current Role</th>\n",
              "      <th>Years Since Last Promotion</th>\n",
              "      <th>Years With Curr Manager</th>\n",
              "      <th>Environment Satisfaction</th>\n",
              "      <th>Training Times Last Year</th>\n",
              "      <th>Work Life Balance</th>\n",
              "      <th>Relationship Satisfaction</th>\n",
              "      <th>Yes</th>\n",
              "    </tr>\n",
              "  </thead>\n",
              "  <tbody>\n",
              "    <tr>\n",
              "      <th>0</th>\n",
              "      <td>1</td>\n",
              "      <td>Sales</td>\n",
              "      <td>Sales Executive</td>\n",
              "      <td>Female</td>\n",
              "      <td>41</td>\n",
              "      <td>Single</td>\n",
              "      <td>College</td>\n",
              "      <td>Life Sciences</td>\n",
              "      <td>Travel_Rarely</td>\n",
              "      <td>1</td>\n",
              "      <td>...</td>\n",
              "      <td>8</td>\n",
              "      <td>6</td>\n",
              "      <td>4</td>\n",
              "      <td>0</td>\n",
              "      <td>5</td>\n",
              "      <td>Medium</td>\n",
              "      <td>0</td>\n",
              "      <td>Bad</td>\n",
              "      <td>Low</td>\n",
              "      <td>1</td>\n",
              "    </tr>\n",
              "    <tr>\n",
              "      <th>1</th>\n",
              "      <td>2</td>\n",
              "      <td>Research &amp; Development</td>\n",
              "      <td>Research Scientist</td>\n",
              "      <td>Male</td>\n",
              "      <td>49</td>\n",
              "      <td>Married</td>\n",
              "      <td>Below College</td>\n",
              "      <td>Life Sciences</td>\n",
              "      <td>Travel_Frequently</td>\n",
              "      <td>8</td>\n",
              "      <td>...</td>\n",
              "      <td>10</td>\n",
              "      <td>10</td>\n",
              "      <td>7</td>\n",
              "      <td>1</td>\n",
              "      <td>7</td>\n",
              "      <td>High</td>\n",
              "      <td>3</td>\n",
              "      <td>Better</td>\n",
              "      <td>Very High</td>\n",
              "      <td>0</td>\n",
              "    </tr>\n",
              "    <tr>\n",
              "      <th>2</th>\n",
              "      <td>4</td>\n",
              "      <td>Research &amp; Development</td>\n",
              "      <td>Laboratory Technician</td>\n",
              "      <td>Male</td>\n",
              "      <td>37</td>\n",
              "      <td>Single</td>\n",
              "      <td>College</td>\n",
              "      <td>Other</td>\n",
              "      <td>Travel_Rarely</td>\n",
              "      <td>2</td>\n",
              "      <td>...</td>\n",
              "      <td>7</td>\n",
              "      <td>0</td>\n",
              "      <td>0</td>\n",
              "      <td>0</td>\n",
              "      <td>0</td>\n",
              "      <td>Low</td>\n",
              "      <td>3</td>\n",
              "      <td>Bad</td>\n",
              "      <td>Medium</td>\n",
              "      <td>1</td>\n",
              "    </tr>\n",
              "    <tr>\n",
              "      <th>3</th>\n",
              "      <td>5</td>\n",
              "      <td>Research &amp; Development</td>\n",
              "      <td>Research Scientist</td>\n",
              "      <td>Female</td>\n",
              "      <td>33</td>\n",
              "      <td>Married</td>\n",
              "      <td>Master</td>\n",
              "      <td>Life Sciences</td>\n",
              "      <td>Travel_Frequently</td>\n",
              "      <td>3</td>\n",
              "      <td>...</td>\n",
              "      <td>8</td>\n",
              "      <td>8</td>\n",
              "      <td>7</td>\n",
              "      <td>3</td>\n",
              "      <td>0</td>\n",
              "      <td>Very High</td>\n",
              "      <td>3</td>\n",
              "      <td>Better</td>\n",
              "      <td>High</td>\n",
              "      <td>0</td>\n",
              "    </tr>\n",
              "    <tr>\n",
              "      <th>4</th>\n",
              "      <td>7</td>\n",
              "      <td>Research &amp; Development</td>\n",
              "      <td>Laboratory Technician</td>\n",
              "      <td>Male</td>\n",
              "      <td>27</td>\n",
              "      <td>Married</td>\n",
              "      <td>Below College</td>\n",
              "      <td>Medical</td>\n",
              "      <td>Travel_Rarely</td>\n",
              "      <td>2</td>\n",
              "      <td>...</td>\n",
              "      <td>6</td>\n",
              "      <td>2</td>\n",
              "      <td>2</td>\n",
              "      <td>2</td>\n",
              "      <td>2</td>\n",
              "      <td>Low</td>\n",
              "      <td>3</td>\n",
              "      <td>Better</td>\n",
              "      <td>Very High</td>\n",
              "      <td>0</td>\n",
              "    </tr>\n",
              "  </tbody>\n",
              "</table>\n",
              "<p>5 rows × 28 columns</p>\n",
              "</div>\n",
              "      <button class=\"colab-df-convert\" onclick=\"convertToInteractive('df-c6df4fac-7f02-4cf1-bf25-0c31a8b02b37')\"\n",
              "              title=\"Convert this dataframe to an interactive table.\"\n",
              "              style=\"display:none;\">\n",
              "        \n",
              "  <svg xmlns=\"http://www.w3.org/2000/svg\" height=\"24px\"viewBox=\"0 0 24 24\"\n",
              "       width=\"24px\">\n",
              "    <path d=\"M0 0h24v24H0V0z\" fill=\"none\"/>\n",
              "    <path d=\"M18.56 5.44l.94 2.06.94-2.06 2.06-.94-2.06-.94-.94-2.06-.94 2.06-2.06.94zm-11 1L8.5 8.5l.94-2.06 2.06-.94-2.06-.94L8.5 2.5l-.94 2.06-2.06.94zm10 10l.94 2.06.94-2.06 2.06-.94-2.06-.94-.94-2.06-.94 2.06-2.06.94z\"/><path d=\"M17.41 7.96l-1.37-1.37c-.4-.4-.92-.59-1.43-.59-.52 0-1.04.2-1.43.59L10.3 9.45l-7.72 7.72c-.78.78-.78 2.05 0 2.83L4 21.41c.39.39.9.59 1.41.59.51 0 1.02-.2 1.41-.59l7.78-7.78 2.81-2.81c.8-.78.8-2.07 0-2.86zM5.41 20L4 18.59l7.72-7.72 1.47 1.35L5.41 20z\"/>\n",
              "  </svg>\n",
              "      </button>\n",
              "      \n",
              "  <style>\n",
              "    .colab-df-container {\n",
              "      display:flex;\n",
              "      flex-wrap:wrap;\n",
              "      gap: 12px;\n",
              "    }\n",
              "\n",
              "    .colab-df-convert {\n",
              "      background-color: #E8F0FE;\n",
              "      border: none;\n",
              "      border-radius: 50%;\n",
              "      cursor: pointer;\n",
              "      display: none;\n",
              "      fill: #1967D2;\n",
              "      height: 32px;\n",
              "      padding: 0 0 0 0;\n",
              "      width: 32px;\n",
              "    }\n",
              "\n",
              "    .colab-df-convert:hover {\n",
              "      background-color: #E2EBFA;\n",
              "      box-shadow: 0px 1px 2px rgba(60, 64, 67, 0.3), 0px 1px 3px 1px rgba(60, 64, 67, 0.15);\n",
              "      fill: #174EA6;\n",
              "    }\n",
              "\n",
              "    [theme=dark] .colab-df-convert {\n",
              "      background-color: #3B4455;\n",
              "      fill: #D2E3FC;\n",
              "    }\n",
              "\n",
              "    [theme=dark] .colab-df-convert:hover {\n",
              "      background-color: #434B5C;\n",
              "      box-shadow: 0px 1px 3px 1px rgba(0, 0, 0, 0.15);\n",
              "      filter: drop-shadow(0px 1px 2px rgba(0, 0, 0, 0.3));\n",
              "      fill: #FFFFFF;\n",
              "    }\n",
              "  </style>\n",
              "\n",
              "      <script>\n",
              "        const buttonEl =\n",
              "          document.querySelector('#df-c6df4fac-7f02-4cf1-bf25-0c31a8b02b37 button.colab-df-convert');\n",
              "        buttonEl.style.display =\n",
              "          google.colab.kernel.accessAllowed ? 'block' : 'none';\n",
              "\n",
              "        async function convertToInteractive(key) {\n",
              "          const element = document.querySelector('#df-c6df4fac-7f02-4cf1-bf25-0c31a8b02b37');\n",
              "          const dataTable =\n",
              "            await google.colab.kernel.invokeFunction('convertToInteractive',\n",
              "                                                     [key], {});\n",
              "          if (!dataTable) return;\n",
              "\n",
              "          const docLinkHtml = 'Like what you see? Visit the ' +\n",
              "            '<a target=\"_blank\" href=https://colab.research.google.com/notebooks/data_table.ipynb>data table notebook</a>'\n",
              "            + ' to learn more about interactive tables.';\n",
              "          element.innerHTML = '';\n",
              "          dataTable['output_type'] = 'display_data';\n",
              "          await google.colab.output.renderOutput(dataTable, element);\n",
              "          const docLink = document.createElement('div');\n",
              "          docLink.innerHTML = docLinkHtml;\n",
              "          element.appendChild(docLink);\n",
              "        }\n",
              "      </script>\n",
              "    </div>\n",
              "  </div>\n",
              "  "
            ]
          },
          "metadata": {},
          "execution_count": 19
        }
      ],
      "source": [
        "#For one column is enough either yes or no as both have 1/0 value which tells like in 'YES' column 1 depicts true and 0 depicts false i.e. no \n",
        "df = df.drop(['Attrition (Yes/No)','No'], axis=1)\n",
        "df.head()"
      ]
    },
    {
      "cell_type": "markdown",
      "metadata": {
        "id": "SgxH8gHGL0Ny"
      },
      "source": [
        "**INSIGHTS**"
      ]
    },
    {
      "cell_type": "code",
      "execution_count": null,
      "metadata": {
        "colab": {
          "base_uri": "https://localhost:8080/"
        },
        "id": "jjvwuYMW_G3I",
        "outputId": "5ab74767-4055-49c9-f7fa-cedac11d649d"
      },
      "outputs": [
        {
          "output_type": "stream",
          "name": "stdout",
          "text": [
            "WE CAN SEE THAT MAXIMUM PEOPLE WORKS/WORKED IN COMPANY ARE OF 35 YEARS , count : 78\n"
          ]
        }
      ],
      "source": [
        "Age = df[['Age']].value_counts().sort_values(ascending=False)\n",
        "print(\"WE CAN SEE THAT MAXIMUM PEOPLE WORKS/WORKED IN COMPANY ARE OF 35 YEARS , count :\", max(Age))"
      ]
    },
    {
      "cell_type": "code",
      "execution_count": null,
      "metadata": {
        "colab": {
          "base_uri": "https://localhost:8080/"
        },
        "id": "jQFGiFXPPpw0",
        "outputId": "70612cd5-ab70-4ffb-e2a2-545acf947db9"
      },
      "outputs": [
        {
          "output_type": "execute_result",
          "data": {
            "text/plain": [
              "Department\n",
              "Sales                     0.206278\n",
              "Human Resources           0.190476\n",
              "Research & Development    0.138398\n",
              "Name: Yes, dtype: float64"
            ]
          },
          "metadata": {},
          "execution_count": 21
        }
      ],
      "source": [
        "df.groupby('Department')['Yes'].agg(np.mean).sort_values(ascending=False) #We are grouping the yes column by departement column to see the total attrition according to the departement"
      ]
    },
    {
      "cell_type": "code",
      "execution_count": null,
      "metadata": {
        "colab": {
          "base_uri": "https://localhost:8080/",
          "height": 248
        },
        "id": "apVppuMAE_jn",
        "outputId": "bee5aab5-1b54-439c-f037-56d7f6e4a002"
      },
      "outputs": [
        {
          "output_type": "display_data",
          "data": {
            "text/plain": [
              "<Figure size 432x288 with 1 Axes>"
            ],
            "image/png": "[encoded data removed]"
          },
          "metadata": {}
        }
      ],
      "source": [
        "val=[0.3855,0.3559,0.2586]\n",
        "label=['Sales','Human Resources','Research & Development']\n",
        "plt.figure()\n",
        "plt.pie(val, labels=label, autopct='%0.2f%%')\n",
        "plt.show()"
      ]
    },
    {
      "cell_type": "markdown",
      "metadata": {
        "id": "zFnVYfMJG9KI"
      },
      "source": [
        "SALES DEPARTEMENT IS THE MOST ATTRITION DEPT"
      ]
    },
    {
      "cell_type": "code",
      "execution_count": null,
      "metadata": {
        "colab": {
          "base_uri": "https://localhost:8080/"
        },
        "id": "PUc3Peu1FMuE",
        "outputId": "7d202f26-96be-41ed-e5c3-24480f3ea753"
      },
      "outputs": [
        {
          "output_type": "execute_result",
          "data": {
            "text/plain": [
              "Business Travel\n",
              "Travel_Rarely        1043\n",
              "Travel_Frequently     277\n",
              "Non-Travel            150\n",
              "Name: Age, dtype: int64"
            ]
          },
          "metadata": {},
          "execution_count": 23
        }
      ],
      "source": [
        "df.groupby('Business Travel')['Age'].agg(len).sort_values(ascending=False)"
      ]
    },
    {
      "cell_type": "code",
      "execution_count": null,
      "metadata": {
        "colab": {
          "base_uri": "https://localhost:8080/",
          "height": 365
        },
        "id": "80jAM9urCn4j",
        "outputId": "2dd19d3a-152b-462d-8d34-f0f9cafdd195"
      },
      "outputs": [
        {
          "output_type": "display_data",
          "data": {
            "text/plain": [
              "<Figure size 540.725x360 with 1 Axes>"
            ],
            "image/png": "[encoded data removed]"
          },
          "metadata": {}
        }
      ],
      "source": [
        "sb.set(rc={'figure.figsize':(18,10)})\n",
        "plot=sb.catplot(x='Business Travel',hue='Department',kind='count',data=df)"
      ]
    },
    {
      "cell_type": "markdown",
      "metadata": {
        "id": "2dokKeReFcCT"
      },
      "source": [
        "MOST EMPLOYEES IN THE COMPANY RARELY TRAVELS\n",
        "\n"
      ]
    },
    {
      "cell_type": "code",
      "execution_count": null,
      "metadata": {
        "colab": {
          "base_uri": "https://localhost:8080/"
        },
        "id": "vrJYWyWfKTe9",
        "outputId": "21761229-3ada-4442-aa78-a8c19009d1c5"
      },
      "outputs": [
        {
          "output_type": "execute_result",
          "data": {
            "text/plain": [
              "Education Field\n",
              "Human Resources     0.259259\n",
              "Technical Degree    0.242424\n",
              "Marketing           0.220126\n",
              "Life Sciences       0.146865\n",
              "Medical             0.135776\n",
              "Other               0.134146\n",
              "Name: Yes, dtype: float64"
            ]
          },
          "metadata": {},
          "execution_count": 25
        }
      ],
      "source": [
        "df.groupby('Education Field')['Yes'].agg(np.mean).sort_values(ascending=False)"
      ]
    },
    {
      "cell_type": "code",
      "execution_count": null,
      "metadata": {
        "colab": {
          "base_uri": "https://localhost:8080/",
          "height": 575
        },
        "id": "uHIDBKSNLPWp",
        "outputId": "af00e7b5-495f-48c9-b63b-7b8801d2324b"
      },
      "outputs": [
        {
          "output_type": "display_data",
          "data": {
            "text/plain": [
              "<Figure size 1296x720 with 1 Axes>"
            ],
            "image/png": "[encoded data removed]"
          },
          "metadata": {}
        }
      ],
      "source": [
        "val=[0.259259,0.242424,0.220126,0.146865,0.135776,0.134146]\n",
        "label=['Human Resources','Technical Degree','Marketing','Life Sciences','Medical','Other']\n",
        "palette_color = sb.color_palette('bright')\n",
        "plt.pie(val,labels=label,radius=1,colors=palette_color,autopct='%0.2f%%');"
      ]
    },
    {
      "cell_type": "markdown",
      "metadata": {
        "id": "m1705VeNLmcw"
      },
      "source": [
        "MOST ATTRITION EDUCATION FIELD IS HUMAN RESOURCES"
      ]
    },
    {
      "cell_type": "markdown",
      "metadata": {
        "id": "RtpjByNlPDh8"
      },
      "source": [
        "DATA PREPROCESSING"
      ]
    },
    {
      "cell_type": "code",
      "execution_count": null,
      "metadata": {
        "id": "fTabbQC7OcAV",
        "colab": {
          "base_uri": "https://localhost:8080/"
        },
        "outputId": "a84deb72-5df3-4b8f-f167-c933bd95c54b"
      },
      "outputs": [
        {
          "output_type": "stream",
          "name": "stderr",
          "text": [
            "/usr/local/lib/python3.7/dist-packages/ipykernel_launcher.py:3: DeprecationWarning: Converting `np.inexact` or `np.floating` to a dtype is deprecated. The current result is `float64` which is not strictly correct.\n",
            "  This is separate from the ipykernel package so we can avoid doing imports until\n"
          ]
        }
      ],
      "source": [
        "from sklearn.preprocessing import LabelEncoder\n",
        "for column in df.columns:\n",
        "    if df[column].dtype==np.number:\n",
        "        continue\n",
        "    else:\n",
        "        df[column]=LabelEncoder().fit_transform(df[column])"
      ]
    },
    {
      "cell_type": "markdown",
      "metadata": {
        "id": "TdTHmpmHM3Zt"
      },
      "source": [
        "MODEL BUILDING"
      ]
    },
    {
      "cell_type": "code",
      "execution_count": null,
      "metadata": {
        "id": "IgdOexDPMHAo"
      },
      "outputs": [],
      "source": [
        "from sklearn.model_selection import train_test_split\n",
        "from sklearn.ensemble import RandomForestClassifier\n",
        "from sklearn.metrics import confusion_matrix\n",
        "from sklearn.model_selection import train_test_split\n",
        "from sklearn.tree import DecisionTreeClassifier\n",
        "from sklearn.metrics import accuracy_score\n",
        "from sklearn import tree\n",
        "from sklearn.metrics import classification_report\n",
        "import xgboost as xg\n",
        "from sklearn import svm\n",
        "import seaborn as sns"
      ]
    },
    {
      "cell_type": "code",
      "execution_count": null,
      "metadata": {
        "id": "7Qq-HzE1MiDq"
      },
      "outputs": [],
      "source": [
        "x  = df.drop(['Yes'], axis = 1)\n",
        "y = df['Yes']"
      ]
    },
    {
      "cell_type": "code",
      "execution_count": null,
      "metadata": {
        "id": "oMrQjxlCMmtC"
      },
      "outputs": [],
      "source": [
        "x_train, x_test , y_train, y_test = train_test_split(x,y, test_size = 0.3, random_state = 0)"
      ]
    },
    {
      "cell_type": "code",
      "execution_count": null,
      "metadata": {
        "colab": {
          "base_uri": "https://localhost:8080/",
          "height": 352
        },
        "id": "8eJnnuP6MtF4",
        "outputId": "cf5036c1-2efc-4045-b393-122f5b12b3cc"
      },
      "outputs": [
        {
          "output_type": "execute_result",
          "data": {
            "text/plain": [
              "     Employee ID  Department  Job Role  Gender  Age  Marital Status  \\\n",
              "338          338           2         7       0   12               0   \n",
              "363          363           2         8       0   15               2   \n",
              "759          759           0         1       1   27               2   \n",
              "793          793           1         2       1   10               0   \n",
              "581          581           1         2       1   12               1   \n",
              "\n",
              "     Education  Education Field  Business Travel  Distance From Home (kms)  \\\n",
              "338          0                2                2                         4   \n",
              "363          0                2                2                         4   \n",
              "759          4                3                2                        23   \n",
              "793          2                1                2                        14   \n",
              "581          0                1                2                         0   \n",
              "\n",
              "     ...  No. of Companies Worked  Total Working Years  Years At Company  \\\n",
              "338  ...                        1                   10                10   \n",
              "363  ...                        1                    1                 1   \n",
              "759  ...                        1                    6                 6   \n",
              "793  ...                        1                    4                 4   \n",
              "581  ...                        3                    7                 2   \n",
              "\n",
              "     Years In Current Role  Years Since Last Promotion  \\\n",
              "338                      9                           1   \n",
              "363                      0                           0   \n",
              "759                      3                           0   \n",
              "793                      2                           2   \n",
              "581                      2                           0   \n",
              "\n",
              "     Years With Curr Manager  Environment Satisfaction  \\\n",
              "338                        2                         3   \n",
              "363                        0                         3   \n",
              "759                        4                         2   \n",
              "793                        2                         1   \n",
              "581                        2                         3   \n",
              "\n",
              "     Training Times Last Year  Work Life Balance  Relationship Satisfaction  \n",
              "338                         2                  2                          0  \n",
              "363                         2                  0                          2  \n",
              "759                         3                  2                          1  \n",
              "793                         5                  3                          3  \n",
              "581                         2                  2                          0  \n",
              "\n",
              "[5 rows x 27 columns]"
            ],
            "text/html": [
              "\n",
              "  <div id=\"df-70d2cf67-c978-4178-b288-2df57fbdc56d\">\n",
              "    <div class=\"colab-df-container\">\n",
              "      <div>\n",
              "<style scoped>\n",
              "    .dataframe tbody tr th:only-of-type {\n",
              "        vertical-align: middle;\n",
              "    }\n",
              "\n",
              "    .dataframe tbody tr th {\n",
              "        vertical-align: top;\n",
              "    }\n",
              "\n",
              "    .dataframe thead th {\n",
              "        text-align: right;\n",
              "    }\n",
              "</style>\n",
              "<table border=\"1\" class=\"dataframe\">\n",
              "  <thead>\n",
              "    <tr style=\"text-align: right;\">\n",
              "      <th></th>\n",
              "      <th>Employee ID</th>\n",
              "      <th>Department</th>\n",
              "      <th>Job Role</th>\n",
              "      <th>Gender</th>\n",
              "      <th>Age</th>\n",
              "      <th>Marital Status</th>\n",
              "      <th>Education</th>\n",
              "      <th>Education Field</th>\n",
              "      <th>Business Travel</th>\n",
              "      <th>Distance From Home (kms)</th>\n",
              "      <th>...</th>\n",
              "      <th>No. of Companies Worked</th>\n",
              "      <th>Total Working Years</th>\n",
              "      <th>Years At Company</th>\n",
              "      <th>Years In Current Role</th>\n",
              "      <th>Years Since Last Promotion</th>\n",
              "      <th>Years With Curr Manager</th>\n",
              "      <th>Environment Satisfaction</th>\n",
              "      <th>Training Times Last Year</th>\n",
              "      <th>Work Life Balance</th>\n",
              "      <th>Relationship Satisfaction</th>\n",
              "    </tr>\n",
              "  </thead>\n",
              "  <tbody>\n",
              "    <tr>\n",
              "      <th>338</th>\n",
              "      <td>338</td>\n",
              "      <td>2</td>\n",
              "      <td>7</td>\n",
              "      <td>0</td>\n",
              "      <td>12</td>\n",
              "      <td>0</td>\n",
              "      <td>0</td>\n",
              "      <td>2</td>\n",
              "      <td>2</td>\n",
              "      <td>4</td>\n",
              "      <td>...</td>\n",
              "      <td>1</td>\n",
              "      <td>10</td>\n",
              "      <td>10</td>\n",
              "      <td>9</td>\n",
              "      <td>1</td>\n",
              "      <td>2</td>\n",
              "      <td>3</td>\n",
              "      <td>2</td>\n",
              "      <td>2</td>\n",
              "      <td>0</td>\n",
              "    </tr>\n",
              "    <tr>\n",
              "      <th>363</th>\n",
              "      <td>363</td>\n",
              "      <td>2</td>\n",
              "      <td>8</td>\n",
              "      <td>0</td>\n",
              "      <td>15</td>\n",
              "      <td>2</td>\n",
              "      <td>0</td>\n",
              "      <td>2</td>\n",
              "      <td>2</td>\n",
              "      <td>4</td>\n",
              "      <td>...</td>\n",
              "      <td>1</td>\n",
              "      <td>1</td>\n",
              "      <td>1</td>\n",
              "      <td>0</td>\n",
              "      <td>0</td>\n",
              "      <td>0</td>\n",
              "      <td>3</td>\n",
              "      <td>2</td>\n",
              "      <td>0</td>\n",
              "      <td>2</td>\n",
              "    </tr>\n",
              "    <tr>\n",
              "      <th>759</th>\n",
              "      <td>759</td>\n",
              "      <td>0</td>\n",
              "      <td>1</td>\n",
              "      <td>1</td>\n",
              "      <td>27</td>\n",
              "      <td>2</td>\n",
              "      <td>4</td>\n",
              "      <td>3</td>\n",
              "      <td>2</td>\n",
              "      <td>23</td>\n",
              "      <td>...</td>\n",
              "      <td>1</td>\n",
              "      <td>6</td>\n",
              "      <td>6</td>\n",
              "      <td>3</td>\n",
              "      <td>0</td>\n",
              "      <td>4</td>\n",
              "      <td>2</td>\n",
              "      <td>3</td>\n",
              "      <td>2</td>\n",
              "      <td>1</td>\n",
              "    </tr>\n",
              "    <tr>\n",
              "      <th>793</th>\n",
              "      <td>793</td>\n",
              "      <td>1</td>\n",
              "      <td>2</td>\n",
              "      <td>1</td>\n",
              "      <td>10</td>\n",
              "      <td>0</td>\n",
              "      <td>2</td>\n",
              "      <td>1</td>\n",
              "      <td>2</td>\n",
              "      <td>14</td>\n",
              "      <td>...</td>\n",
              "      <td>1</td>\n",
              "      <td>4</td>\n",
              "      <td>4</td>\n",
              "      <td>2</td>\n",
              "      <td>2</td>\n",
              "      <td>2</td>\n",
              "      <td>1</td>\n",
              "      <td>5</td>\n",
              "      <td>3</td>\n",
              "      <td>3</td>\n",
              "    </tr>\n",
              "    <tr>\n",
              "      <th>581</th>\n",
              "      <td>581</td>\n",
              "      <td>1</td>\n",
              "      <td>2</td>\n",
              "      <td>1</td>\n",
              "      <td>12</td>\n",
              "      <td>1</td>\n",
              "      <td>0</td>\n",
              "      <td>1</td>\n",
              "      <td>2</td>\n",
              "      <td>0</td>\n",
              "      <td>...</td>\n",
              "      <td>3</td>\n",
              "      <td>7</td>\n",
              "      <td>2</td>\n",
              "      <td>2</td>\n",
              "      <td>0</td>\n",
              "      <td>2</td>\n",
              "      <td>3</td>\n",
              "      <td>2</td>\n",
              "      <td>2</td>\n",
              "      <td>0</td>\n",
              "    </tr>\n",
              "  </tbody>\n",
              "</table>\n",
              "<p>5 rows × 27 columns</p>\n",
              "</div>\n",
              "      <button class=\"colab-df-convert\" onclick=\"convertToInteractive('df-70d2cf67-c978-4178-b288-2df57fbdc56d')\"\n",
              "              title=\"Convert this dataframe to an interactive table.\"\n",
              "              style=\"display:none;\">\n",
              "        \n",
              "  <svg xmlns=\"http://www.w3.org/2000/svg\" height=\"24px\"viewBox=\"0 0 24 24\"\n",
              "       width=\"24px\">\n",
              "    <path d=\"M0 0h24v24H0V0z\" fill=\"none\"/>\n",
              "    <path d=\"M18.56 5.44l.94 2.06.94-2.06 2.06-.94-2.06-.94-.94-2.06-.94 2.06-2.06.94zm-11 1L8.5 8.5l.94-2.06 2.06-.94-2.06-.94L8.5 2.5l-.94 2.06-2.06.94zm10 10l.94 2.06.94-2.06 2.06-.94-2.06-.94-.94-2.06-.94 2.06-2.06.94z\"/><path d=\"M17.41 7.96l-1.37-1.37c-.4-.4-.92-.59-1.43-.59-.52 0-1.04.2-1.43.59L10.3 9.45l-7.72 7.72c-.78.78-.78 2.05 0 2.83L4 21.41c.39.39.9.59 1.41.59.51 0 1.02-.2 1.41-.59l7.78-7.78 2.81-2.81c.8-.78.8-2.07 0-2.86zM5.41 20L4 18.59l7.72-7.72 1.47 1.35L5.41 20z\"/>\n",
              "  </svg>\n",
              "      </button>\n",
              "      \n",
              "  <style>\n",
              "    .colab-df-container {\n",
              "      display:flex;\n",
              "      flex-wrap:wrap;\n",
              "      gap: 12px;\n",
              "    }\n",
              "\n",
              "    .colab-df-convert {\n",
              "      background-color: #E8F0FE;\n",
              "      border: none;\n",
              "      border-radius: 50%;\n",
              "      cursor: pointer;\n",
              "      display: none;\n",
              "      fill: #1967D2;\n",
              "      height: 32px;\n",
              "      padding: 0 0 0 0;\n",
              "      width: 32px;\n",
              "    }\n",
              "\n",
              "    .colab-df-convert:hover {\n",
              "      background-color: #E2EBFA;\n",
              "      box-shadow: 0px 1px 2px rgba(60, 64, 67, 0.3), 0px 1px 3px 1px rgba(60, 64, 67, 0.15);\n",
              "      fill: #174EA6;\n",
              "    }\n",
              "\n",
              "    [theme=dark] .colab-df-convert {\n",
              "      background-color: #3B4455;\n",
              "      fill: #D2E3FC;\n",
              "    }\n",
              "\n",
              "    [theme=dark] .colab-df-convert:hover {\n",
              "      background-color: #434B5C;\n",
              "      box-shadow: 0px 1px 3px 1px rgba(0, 0, 0, 0.15);\n",
              "      filter: drop-shadow(0px 1px 2px rgba(0, 0, 0, 0.3));\n",
              "      fill: #FFFFFF;\n",
              "    }\n",
              "  </style>\n",
              "\n",
              "      <script>\n",
              "        const buttonEl =\n",
              "          document.querySelector('#df-70d2cf67-c978-4178-b288-2df57fbdc56d button.colab-df-convert');\n",
              "        buttonEl.style.display =\n",
              "          google.colab.kernel.accessAllowed ? 'block' : 'none';\n",
              "\n",
              "        async function convertToInteractive(key) {\n",
              "          const element = document.querySelector('#df-70d2cf67-c978-4178-b288-2df57fbdc56d');\n",
              "          const dataTable =\n",
              "            await google.colab.kernel.invokeFunction('convertToInteractive',\n",
              "                                                     [key], {});\n",
              "          if (!dataTable) return;\n",
              "\n",
              "          const docLinkHtml = 'Like what you see? Visit the ' +\n",
              "            '<a target=\"_blank\" href=https://colab.research.google.com/notebooks/data_table.ipynb>data table notebook</a>'\n",
              "            + ' to learn more about interactive tables.';\n",
              "          element.innerHTML = '';\n",
              "          dataTable['output_type'] = 'display_data';\n",
              "          await google.colab.output.renderOutput(dataTable, element);\n",
              "          const docLink = document.createElement('div');\n",
              "          docLink.innerHTML = docLinkHtml;\n",
              "          element.appendChild(docLink);\n",
              "        }\n",
              "      </script>\n",
              "    </div>\n",
              "  </div>\n",
              "  "
            ]
          },
          "metadata": {},
          "execution_count": 31
        }
      ],
      "source": [
        "x_train.head()"
      ]
    },
    {
      "cell_type": "markdown",
      "metadata": {
        "id": "N61bq2J1Oz6o"
      },
      "source": [
        "Random Forest"
      ]
    },
    {
      "cell_type": "code",
      "execution_count": null,
      "metadata": {
        "colab": {
          "base_uri": "https://localhost:8080/"
        },
        "id": "XWeSv-8RMwM5",
        "outputId": "d0f73e23-756e-4e8d-a887-44acb163efec",
        "scrolled": true
      },
      "outputs": [
        {
          "output_type": "execute_result",
          "data": {
            "text/plain": [
              "RandomForestClassifier(criterion='entropy', n_estimators=10, random_state=0)"
            ]
          },
          "metadata": {},
          "execution_count": 32
        }
      ],
      "source": [
        "rf = RandomForestClassifier(n_estimators = 10, criterion = 'entropy', random_state = 0)\n",
        "rf.fit(x_train, y_train)"
      ]
    },
    {
      "cell_type": "code",
      "execution_count": null,
      "metadata": {
        "id": "l832ormaM0vD"
      },
      "outputs": [],
      "source": [
        "pred = rf.predict(x_test)"
      ]
    },
    {
      "cell_type": "code",
      "execution_count": null,
      "metadata": {
        "colab": {
          "base_uri": "https://localhost:8080/"
        },
        "id": "HsCtBLi1NEDx",
        "outputId": "140f732c-679d-4714-851e-2e1ee495297e"
      },
      "outputs": [
        {
          "output_type": "execute_result",
          "data": {
            "text/plain": [
              "0.8820861678004536"
            ]
          },
          "metadata": {},
          "execution_count": 34
        }
      ],
      "source": [
        "a1=accuracy_score(y_test, pred)\n",
        "a1"
      ]
    },
    {
      "cell_type": "markdown",
      "metadata": {
        "id": "iZFqekkPNI-i"
      },
      "source": [
        "**Accuracy for Tested Data = 88.20 %**"
      ]
    },
    {
      "cell_type": "code",
      "execution_count": null,
      "metadata": {
        "colab": {
          "base_uri": "https://localhost:8080/"
        },
        "id": "ipNa34uJOz6p",
        "outputId": "6993f644-a74d-443e-ceb9-d8c38043cb27"
      },
      "outputs": [
        {
          "output_type": "execute_result",
          "data": {
            "text/plain": [
              "array([[365,   6],\n",
              "       [ 46,  24]])"
            ]
          },
          "metadata": {},
          "execution_count": 35
        }
      ],
      "source": [
        "confusion_matrix(y_test, pred)"
      ]
    },
    {
      "cell_type": "code",
      "source": [
        "ax1 = sns.distplot(df['Yes'], hist=False, color=\"r\", label=\"Actual Value\")\n",
        "sns.distplot(pred, hist=False, color=\"b\", label=\"Fitted Values\" , ax=ax1)\n",
        "\n",
        "\n",
        "plt.title('Actual vs Fitted Values')\n",
        "plt.xlabel('Yes')\n",
        "plt.ylabel('# of Employees')\n",
        "plt.legend()\n",
        "\n",
        "plt.show()\n",
        "plt.close()"
      ],
      "metadata": {
        "id": "PFpOKH2-lU5l",
        "colab": {
          "base_uri": "https://localhost:8080/",
          "height": 716
        },
        "outputId": "d606fdfe-b66b-428a-f146-9f1243c958bf"
      },
      "execution_count": null,
      "outputs": [
        {
          "output_type": "stream",
          "name": "stderr",
          "text": [
            "/usr/local/lib/python3.7/dist-packages/seaborn/distributions.py:2619: FutureWarning: `distplot` is a deprecated function and will be removed in a future version. Please adapt your code to use either `displot` (a figure-level function with similar flexibility) or `kdeplot` (an axes-level function for kernel density plots).\n",
            "  warnings.warn(msg, FutureWarning)\n",
            "/usr/local/lib/python3.7/dist-packages/seaborn/distributions.py:2619: FutureWarning: `distplot` is a deprecated function and will be removed in a future version. Please adapt your code to use either `displot` (a figure-level function with similar flexibility) or `kdeplot` (an axes-level function for kernel density plots).\n",
            "  warnings.warn(msg, FutureWarning)\n"
          ]
        },
        {
          "output_type": "display_data",
          "data": {
            "text/plain": [
              "<Figure size 1296x720 with 1 Axes>"
            ],
            "image/png": "[encoded data removed]"
          },
          "metadata": {}
        }
      ]
    },
    {
      "cell_type": "markdown",
      "metadata": {
        "id": "ChQX5UepOz6p"
      },
      "source": [
        "Decision Tree"
      ]
    },
    {
      "cell_type": "code",
      "execution_count": null,
      "metadata": {
        "colab": {
          "base_uri": "https://localhost:8080/"
        },
        "id": "wFkQZoCZOz6p",
        "outputId": "0b9980da-d4ad-49ad-b463-5e976c251730"
      },
      "outputs": [
        {
          "output_type": "execute_result",
          "data": {
            "text/plain": [
              "DecisionTreeClassifier(max_depth=3, min_samples_leaf=5, random_state=100)"
            ]
          },
          "metadata": {},
          "execution_count": 37
        }
      ],
      "source": [
        "gini = DecisionTreeClassifier(criterion = \"gini\",random_state = 100,max_depth=3, min_samples_leaf=5)\n",
        "gini.fit(x_train, y_train)"
      ]
    },
    {
      "cell_type": "code",
      "execution_count": null,
      "metadata": {
        "colab": {
          "base_uri": "https://localhost:8080/"
        },
        "id": "drQ9pxtLOz6p",
        "outputId": "ef27e675-6791-464a-b5dc-ebab4bbf4031"
      },
      "outputs": [
        {
          "output_type": "execute_result",
          "data": {
            "text/plain": [
              "0.8931000971817298"
            ]
          },
          "metadata": {},
          "execution_count": 38
        }
      ],
      "source": [
        "gini.score(x_train, y_train)"
      ]
    },
    {
      "cell_type": "code",
      "execution_count": null,
      "metadata": {
        "id": "fGXzTMMZOz6p"
      },
      "outputs": [],
      "source": [
        "pred1 = gini.predict(x_test)"
      ]
    },
    {
      "cell_type": "code",
      "execution_count": null,
      "metadata": {
        "scrolled": true,
        "colab": {
          "base_uri": "https://localhost:8080/"
        },
        "id": "qYWPDmnvOz6p",
        "outputId": "fc8c3763-e322-461f-b3c0-4aedd4df9e42"
      },
      "outputs": [
        {
          "output_type": "execute_result",
          "data": {
            "text/plain": [
              "0.8843537414965986"
            ]
          },
          "metadata": {},
          "execution_count": 40
        }
      ],
      "source": [
        "accuracy_score(y_test, pred1)"
      ]
    },
    {
      "cell_type": "markdown",
      "source": [
        "**Accuracy for Tested Data = 88.43%**"
      ],
      "metadata": {
        "id": "BvKqZ-dhQTXv"
      }
    },
    {
      "cell_type": "code",
      "execution_count": null,
      "metadata": {
        "colab": {
          "base_uri": "https://localhost:8080/"
        },
        "id": "6E5YoZEaOz6p",
        "outputId": "4985be9b-eca6-45bc-cf81-879fb6f5b711"
      },
      "outputs": [
        {
          "output_type": "execute_result",
          "data": {
            "text/plain": [
              "array([[362,   9],\n",
              "       [ 42,  28]])"
            ]
          },
          "metadata": {},
          "execution_count": 41
        }
      ],
      "source": [
        "confusion_matrix(y_test, pred1)"
      ]
    },
    {
      "cell_type": "code",
      "execution_count": null,
      "metadata": {
        "colab": {
          "base_uri": "https://localhost:8080/",
          "height": 575
        },
        "id": "fGnUDyljOz6p",
        "outputId": "67e8c1b0-e155-4725-9d66-94d3a8f77420"
      },
      "outputs": [
        {
          "output_type": "display_data",
          "data": {
            "text/plain": [
              "<Figure size 1296x720 with 1 Axes>"
            ],
            "image/png": "[encoded data removed]"
          },
          "metadata": {}
        }
      ],
      "source": [
        "dtree=gini.fit(x_train, y_train)\n",
        "x=df.columns.values\n",
        "im1=tree.plot_tree(dtree, feature_names=x)"
      ]
    },
    {
      "cell_type": "code",
      "source": [
        "ax1 = sns.distplot(df[\"Yes\"], hist=False, color=\"r\", label=\"Actual Value\")\n",
        "sns.distplot(pred1, hist=False, color=\"b\", label=\"Fitted Values\" , ax=ax1)\n",
        "\n",
        "\n",
        "plt.title('Actual vs Fitted Values')\n",
        "plt.xlabel('Yes')\n",
        "plt.ylabel('# of Employees')\n",
        "plt.legend()\n",
        "\n",
        "plt.show()\n",
        "plt.close()"
      ],
      "metadata": {
        "colab": {
          "base_uri": "https://localhost:8080/",
          "height": 716
        },
        "id": "xrF0sjAGmlfF",
        "outputId": "c00a6dd3-3726-4a50-f435-adb31176e3f9"
      },
      "execution_count": null,
      "outputs": [
        {
          "output_type": "stream",
          "name": "stderr",
          "text": [
            "/usr/local/lib/python3.7/dist-packages/seaborn/distributions.py:2619: FutureWarning: `distplot` is a deprecated function and will be removed in a future version. Please adapt your code to use either `displot` (a figure-level function with similar flexibility) or `kdeplot` (an axes-level function for kernel density plots).\n",
            "  warnings.warn(msg, FutureWarning)\n",
            "/usr/local/lib/python3.7/dist-packages/seaborn/distributions.py:2619: FutureWarning: `distplot` is a deprecated function and will be removed in a future version. Please adapt your code to use either `displot` (a figure-level function with similar flexibility) or `kdeplot` (an axes-level function for kernel density plots).\n",
            "  warnings.warn(msg, FutureWarning)\n"
          ]
        },
        {
          "output_type": "display_data",
          "data": {
            "text/plain": [
              "<Figure size 1296x720 with 1 Axes>"
            ],
            "image/png": "[encoded data removed]"
          },
          "metadata": {}
        }
      ]
    },
    {
      "cell_type": "markdown",
      "metadata": {
        "id": "JBEhQCQFOz6p"
      },
      "source": [
        "XGBoost"
      ]
    },
    {
      "cell_type": "code",
      "execution_count": null,
      "metadata": {
        "colab": {
          "base_uri": "https://localhost:8080/"
        },
        "id": "UyKStp87Oz6p",
        "outputId": "b319075d-a2f4-4871-8e76-12e7378792bd"
      },
      "outputs": [
        {
          "output_type": "execute_result",
          "data": {
            "text/plain": [
              "XGBClassifier()"
            ]
          },
          "metadata": {},
          "execution_count": 44
        }
      ],
      "source": [
        "my_model = xg.XGBClassifier()\n",
        "my_model.fit(x_train, y_train)"
      ]
    },
    {
      "cell_type": "code",
      "execution_count": null,
      "metadata": {
        "id": "8q2vVs9VOz6q"
      },
      "outputs": [],
      "source": [
        "pred2 = my_model.predict(x_test)"
      ]
    },
    {
      "cell_type": "code",
      "source": [
        "accuracy_score(y_test, pred2)"
      ],
      "metadata": {
        "colab": {
          "base_uri": "https://localhost:8080/"
        },
        "id": "3kcVZc1DQcgH",
        "outputId": "33adbef0-6a3b-48f9-e88b-137ca3e05e4b"
      },
      "execution_count": null,
      "outputs": [
        {
          "output_type": "execute_result",
          "data": {
            "text/plain": [
              "0.9070294784580499"
            ]
          },
          "metadata": {},
          "execution_count": 46
        }
      ]
    },
    {
      "cell_type": "markdown",
      "source": [
        "**Accuracy for Tested Data = 90.70%**"
      ],
      "metadata": {
        "id": "VgZN5P78QqZA"
      }
    },
    {
      "cell_type": "code",
      "execution_count": null,
      "metadata": {
        "colab": {
          "base_uri": "https://localhost:8080/"
        },
        "id": "iG-Ke28_Oz6q",
        "outputId": "9a3c025f-7009-4716-d6c9-f53042e7e00b"
      },
      "outputs": [
        {
          "output_type": "execute_result",
          "data": {
            "text/plain": [
              "array([[366,   5],\n",
              "       [ 36,  34]])"
            ]
          },
          "metadata": {},
          "execution_count": 47
        }
      ],
      "source": [
        "cm = confusion_matrix(y_test, pred2)\n",
        "cm"
      ]
    },
    {
      "cell_type": "code",
      "source": [
        "ax1 = sns.distplot(df['Yes'], hist=False, color=\"r\", label=\"Actual Value\")\n",
        "sns.distplot(pred2, hist=False, color=\"b\", label=\"Fitted Values\" , ax=ax1)\n",
        "\n",
        "\n",
        "plt.title('Actual vs Fitted Values')\n",
        "plt.xlabel('Yes')\n",
        "plt.ylabel('# of Employees')\n",
        "plt.legend()\n",
        "plt.show()\n",
        "plt.close()"
      ],
      "metadata": {
        "colab": {
          "base_uri": "https://localhost:8080/",
          "height": 716
        },
        "id": "otYijwy_mzvt",
        "outputId": "9ec4ec7c-fbdb-457c-cefa-0e46f3a3b85a"
      },
      "execution_count": null,
      "outputs": [
        {
          "output_type": "stream",
          "name": "stderr",
          "text": [
            "/usr/local/lib/python3.7/dist-packages/seaborn/distributions.py:2619: FutureWarning: `distplot` is a deprecated function and will be removed in a future version. Please adapt your code to use either `displot` (a figure-level function with similar flexibility) or `kdeplot` (an axes-level function for kernel density plots).\n",
            "  warnings.warn(msg, FutureWarning)\n",
            "/usr/local/lib/python3.7/dist-packages/seaborn/distributions.py:2619: FutureWarning: `distplot` is a deprecated function and will be removed in a future version. Please adapt your code to use either `displot` (a figure-level function with similar flexibility) or `kdeplot` (an axes-level function for kernel density plots).\n",
            "  warnings.warn(msg, FutureWarning)\n"
          ]
        },
        {
          "output_type": "display_data",
          "data": {
            "text/plain": [
              "<Figure size 1296x720 with 1 Axes>"
            ],
            "image/png": "[encoded data removed]"
          },
          "metadata": {}
        }
      ]
    },
    {
      "cell_type": "markdown",
      "source": [
        "SVM Classifier"
      ],
      "metadata": {
        "id": "72tkcFHkQ1d3"
      }
    },
    {
      "cell_type": "code",
      "source": [
        "from sklearn.svm import SVC\n",
        "svm =SVC(kernel = 'linear', random_state = 0, C=1.0)\n",
        "svm.fit(x_train, y_train)\n"
      ],
      "metadata": {
        "colab": {
          "base_uri": "https://localhost:8080/"
        },
        "id": "Y2N-v97UQ3xv",
        "outputId": "2855da66-84c8-47fe-bd2e-ab3fcc26f475"
      },
      "execution_count": null,
      "outputs": [
        {
          "output_type": "execute_result",
          "data": {
            "text/plain": [
              "SVC(kernel='linear', random_state=0)"
            ]
          },
          "metadata": {},
          "execution_count": 52
        }
      ]
    },
    {
      "cell_type": "code",
      "source": [
        "pred3 = svm.predict(x_test)"
      ],
      "metadata": {
        "id": "VyoQBQ7sRHsA"
      },
      "execution_count": null,
      "outputs": []
    },
    {
      "cell_type": "code",
      "source": [
        "accuracy_score(y_test, pred3)"
      ],
      "metadata": {
        "colab": {
          "base_uri": "https://localhost:8080/"
        },
        "id": "JiRo3NsgRLh3",
        "outputId": "5b0d3c21-6e91-4fbc-e85f-d0713b08155e"
      },
      "execution_count": null,
      "outputs": [
        {
          "output_type": "execute_result",
          "data": {
            "text/plain": [
              "0.8888888888888888"
            ]
          },
          "metadata": {},
          "execution_count": 54
        }
      ]
    },
    {
      "cell_type": "markdown",
      "source": [
        "**Accuracy for Tested Data = 88.88%**"
      ],
      "metadata": {
        "id": "IwJTYl87ROQH"
      }
    },
    {
      "cell_type": "code",
      "source": [
        "cm = confusion_matrix(y_test, pred3)\n",
        "cm"
      ],
      "metadata": {
        "colab": {
          "base_uri": "https://localhost:8080/"
        },
        "id": "aF4Up4tCRQf_",
        "outputId": "c1bf5aea-c25e-4f42-a12d-1512d68a33c2"
      },
      "execution_count": null,
      "outputs": [
        {
          "output_type": "execute_result",
          "data": {
            "text/plain": [
              "array([[367,   4],\n",
              "       [ 45,  25]])"
            ]
          },
          "metadata": {},
          "execution_count": 55
        }
      ]
    },
    {
      "cell_type": "code",
      "source": [
        "ax1 = sns.distplot(df['Yes'], hist=False, color=\"r\", label=\"Actual Value\")\n",
        "sns.distplot(pred3, hist=False, color=\"b\", label=\"Fitted Values\" , ax=ax1)\n",
        "\n",
        "\n",
        "plt.title('Actual vs Fitted Values')\n",
        "plt.xlabel('Yes')\n",
        "plt.ylabel('# of Employees')\n",
        "plt.legend()\n",
        "\n",
        "plt.show()\n",
        "plt.close()"
      ],
      "metadata": {
        "colab": {
          "base_uri": "https://localhost:8080/",
          "height": 716
        },
        "id": "klt8WFsbnOd5",
        "outputId": "91091624-a3bf-4925-f1bf-88d569a9893f"
      },
      "execution_count": null,
      "outputs": [
        {
          "output_type": "stream",
          "name": "stderr",
          "text": [
            "/usr/local/lib/python3.7/dist-packages/seaborn/distributions.py:2619: FutureWarning: `distplot` is a deprecated function and will be removed in a future version. Please adapt your code to use either `displot` (a figure-level function with similar flexibility) or `kdeplot` (an axes-level function for kernel density plots).\n",
            "  warnings.warn(msg, FutureWarning)\n",
            "/usr/local/lib/python3.7/dist-packages/seaborn/distributions.py:2619: FutureWarning: `distplot` is a deprecated function and will be removed in a future version. Please adapt your code to use either `displot` (a figure-level function with similar flexibility) or `kdeplot` (an axes-level function for kernel density plots).\n",
            "  warnings.warn(msg, FutureWarning)\n"
          ]
        },
        {
          "output_type": "display_data",
          "data": {
            "text/plain": [
              "<Figure size 1296x720 with 1 Axes>"
            ],
            "image/png": "[encoded data removed]"
          },
          "metadata": {}
        }
      ]
    },
    {
      "cell_type": "code",
      "source": [
        "pred=[accuracy_score(y_test, pred),accuracy_score(y_test, pred1),accuracy_score(y_test, pred2),accuracy_score(y_test, pred3)]\n",
        "name=[\"Random forest\",\"Decision Tree\",\"XGBoost\",\"SVM\"]\n",
        "print(\"Maximum Accuracy: \",\"\\n\",max(pred),\"---------->\",name[pred.index(max(pred))])"
      ],
      "metadata": {
        "colab": {
          "base_uri": "https://localhost:8080/"
        },
        "id": "GY-ANTDmkWKe",
        "outputId": "83a9cc78-6557-401d-d43c-fae991506984"
      },
      "execution_count": null,
      "outputs": [
        {
          "output_type": "stream",
          "name": "stdout",
          "text": [
            "Maximum Accuracy:  \n",
            " 0.9070294784580499 ----------> XGBoost\n"
          ]
        }
      ]
    }
  ],
  "metadata": {
    "colab": {
      "provenance": [],
      "collapsed_sections": []
    },
    "kernelspec": {
      "display_name": "Python 3",
      "language": "python",
      "name": "python3"
    },
    "language_info": {
      "codemirror_mode": {
        "name": "ipython",
        "version": 3
      },
      "file_extension": ".py",
      "mimetype": "text/x-python",
      "name": "python",
      "nbconvert_exporter": "python",
      "pygments_lexer": "ipython3",
      "version": "3.8.8"
    }
  },
  "nbformat": 4,
  "nbformat_minor": 0
}